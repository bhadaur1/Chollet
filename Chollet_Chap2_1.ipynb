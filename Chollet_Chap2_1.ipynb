{
  "nbformat": 4,
  "nbformat_minor": 0,
  "metadata": {
    "colab": {
      "name": "Chollet-Chap2-1.ipynb",
      "provenance": [],
      "authorship_tag": "ABX9TyPtq5bltOsfSc+cI4f5jJy3",
      "include_colab_link": true
    },
    "kernelspec": {
      "name": "python3",
      "display_name": "Python 3"
    }
  },
  "cells": [
    {
      "cell_type": "markdown",
      "metadata": {
        "id": "view-in-github",
        "colab_type": "text"
      },
      "source": [
        "<a href=\"https://colab.research.google.com/github/bhadaur1/Chollet/blob/master/Chollet_Chap2_1.ipynb\" target=\"_parent\"><img src=\"https://colab.research.google.com/assets/colab-badge.svg\" alt=\"Open In Colab\"/></a>"
      ]
    },
    {
      "cell_type": "markdown",
      "metadata": {
        "id": "lXmzPjFUaRx9",
        "colab_type": "text"
      },
      "source": [
        "Mathematical building blocks of neural networks"
      ]
    },
    {
      "cell_type": "code",
      "metadata": {
        "id": "_5V1RVB_TRPq",
        "colab_type": "code",
        "colab": {}
      },
      "source": [
        "from tensorflow import keras\n",
        "from IPython.core.interactiveshell import InteractiveShell\n",
        "InteractiveShell.ast_node_interactivity = \"all\""
      ],
      "execution_count": 5,
      "outputs": []
    },
    {
      "cell_type": "markdown",
      "metadata": {
        "id": "Yk_7HfSyazsE",
        "colab_type": "text"
      },
      "source": [
        "**Load the mnist dataset**\n",
        "\n",
        "The problem we’re trying to solve here is to classify grayscale images of handwritten digits (28 × 28 pixels) into their 10 categories (0 through 9). We’ll use the MNIST dataset, a classic in the machine-learning community, which has been around almost as long as the field itself and has been intensively studied. It’s a set of 60,000 training images, plus 10,000 test images, assembled by the National Institute of Standards and Technology (the NIST in MNIST) in the 1980s. "
      ]
    },
    {
      "cell_type": "code",
      "metadata": {
        "id": "bQm31WDsakhs",
        "colab_type": "code",
        "colab": {}
      },
      "source": [
        "from keras.datasets import mnist\n",
        "(train_images, train_labels), (test_images, test_labels) = mnist.load_data()"
      ],
      "execution_count": 15,
      "outputs": []
    },
    {
      "cell_type": "code",
      "metadata": {
        "id": "ZT7ObU6ebR8I",
        "colab_type": "code",
        "colab": {
          "base_uri": "https://localhost:8080/",
          "height": 67
        },
        "outputId": "a2e69971-f2fe-4de1-f375-fd4c2ecbebd0"
      },
      "source": [
        "display(train_images.shape)\n",
        "\n",
        "display(len(train_labels))\n",
        "\n",
        "display(train_labels)"
      ],
      "execution_count": 9,
      "outputs": [
        {
          "output_type": "display_data",
          "data": {
            "text/plain": [
              "(60000, 28, 28)"
            ]
          },
          "metadata": {
            "tags": []
          }
        },
        {
          "output_type": "display_data",
          "data": {
            "text/plain": [
              "60000"
            ]
          },
          "metadata": {
            "tags": []
          }
        },
        {
          "output_type": "display_data",
          "data": {
            "text/plain": [
              "array([5, 0, 4, ..., 5, 6, 8], dtype=uint8)"
            ]
          },
          "metadata": {
            "tags": []
          }
        }
      ]
    },
    {
      "cell_type": "code",
      "metadata": {
        "id": "cQ9aVO40bU2n",
        "colab_type": "code",
        "colab": {
          "base_uri": "https://localhost:8080/",
          "height": 67
        },
        "outputId": "5c930f05-a98c-4b89-ad50-ca1d4c440768"
      },
      "source": [
        "display(test_images.shape)\n",
        "\n",
        "display(len(test_labels))\n",
        "\n",
        "display(test_labels)"
      ],
      "execution_count": 10,
      "outputs": [
        {
          "output_type": "display_data",
          "data": {
            "text/plain": [
              "(10000, 28, 28)"
            ]
          },
          "metadata": {
            "tags": []
          }
        },
        {
          "output_type": "display_data",
          "data": {
            "text/plain": [
              "10000"
            ]
          },
          "metadata": {
            "tags": []
          }
        },
        {
          "output_type": "display_data",
          "data": {
            "text/plain": [
              "array([7, 2, 1, ..., 4, 5, 6], dtype=uint8)"
            ]
          },
          "metadata": {
            "tags": []
          }
        }
      ]
    },
    {
      "cell_type": "markdown",
      "metadata": {
        "id": "-H7wVO6kmLcL",
        "colab_type": "text"
      },
      "source": [
        "**Define Bare bones model architecture**\n",
        "\n",
        "`input_shape` is set to be `28 * 28` so images need to flatten "
      ]
    },
    {
      "cell_type": "code",
      "metadata": {
        "id": "m7mMi7LHl4-f",
        "colab_type": "code",
        "colab": {}
      },
      "source": [
        "from keras import models\n",
        "from keras import layers\n",
        "\n",
        "network = models.Sequential()\n",
        "network.add(layers.Dense(512, activation='relu', input_shape=(28 * 28,)))\n",
        "network.add(layers.Dense(10, activation='softmax'))"
      ],
      "execution_count": 11,
      "outputs": []
    },
    {
      "cell_type": "markdown",
      "metadata": {
        "id": "PjBdVGQ1m7B7",
        "colab_type": "text"
      },
      "source": [
        "**Do the model compilation**\n",
        "\n",
        "Need:\n",
        "1. Loss function\n",
        "1. Optimizer\n",
        "1. Metrics to monitor during training and testing"
      ]
    },
    {
      "cell_type": "code",
      "metadata": {
        "id": "O5qpuh7RmYIs",
        "colab_type": "code",
        "colab": {}
      },
      "source": [
        "network.compile(optimizer='rmsprop',\n",
        "                loss='categorical_crossentropy',\n",
        "                metrics=['accuracy'])"
      ],
      "execution_count": 12,
      "outputs": []
    },
    {
      "cell_type": "markdown",
      "metadata": {
        "id": "azoKtaUKnMo1",
        "colab_type": "text"
      },
      "source": [
        "**Preprocess and prepare the training and test data**\n",
        "\n",
        "Before training, we’ll preprocess the data by *reshaping it into the shape the network expects and scaling it so that all values are in the [0, 1] interval.* Previously, our training images, for instance, were stored in an array of shape (60000, 28, 28) of type uint8 with values in the [0, 255] interval. We transform it into a float32 array of shape (60000, 28 * 28) with values between 0 and 1."
      ]
    },
    {
      "cell_type": "code",
      "metadata": {
        "id": "n-AybIuSnIUh",
        "colab_type": "code",
        "colab": {}
      },
      "source": [
        "train_images = train_images.reshape([60000, 28 * 28])\n",
        "train_images = train_images.astype('float32') / 255.0\n",
        "\n",
        "test_images = test_images.reshape([10000, 28 * 28])\n",
        "test_images = test_images.astype('float32') / 255.0"
      ],
      "execution_count": 16,
      "outputs": []
    },
    {
      "cell_type": "markdown",
      "metadata": {
        "id": "ImBfN3lYotzQ",
        "colab_type": "text"
      },
      "source": [
        "**Preparing the labels**"
      ]
    },
    {
      "cell_type": "code",
      "metadata": {
        "id": "2bKjkGhUoYeR",
        "colab_type": "code",
        "colab": {}
      },
      "source": [
        "from keras.utils import to_categorical\n",
        "\n",
        "train_labels = to_categorical(train_labels)\n",
        "test_labels = to_categorical(test_labels)"
      ],
      "execution_count": 17,
      "outputs": []
    },
    {
      "cell_type": "markdown",
      "metadata": {
        "id": "-r4XZbjSpRz9",
        "colab_type": "text"
      },
      "source": [
        "**Finally, fit the model and plot loss and accuracy**"
      ]
    },
    {
      "cell_type": "code",
      "metadata": {
        "id": "-Dm5kbnapPyt",
        "colab_type": "code",
        "colab": {
          "base_uri": "https://localhost:8080/",
          "height": 202
        },
        "outputId": "31837721-329b-49ce-9160-23a5532c0d6a"
      },
      "source": [
        "network.fit(x=train_images, y=train_labels, batch_size=128, epochs=5)"
      ],
      "execution_count": 18,
      "outputs": [
        {
          "output_type": "stream",
          "text": [
            "Epoch 1/5\n",
            "469/469 [==============================] - 4s 9ms/step - loss: 0.2580 - accuracy: 0.9252\n",
            "Epoch 2/5\n",
            "469/469 [==============================] - 4s 9ms/step - loss: 0.1043 - accuracy: 0.9688\n",
            "Epoch 3/5\n",
            "469/469 [==============================] - 4s 9ms/step - loss: 0.0701 - accuracy: 0.9789\n",
            "Epoch 4/5\n",
            "469/469 [==============================] - 4s 9ms/step - loss: 0.0501 - accuracy: 0.9847\n",
            "Epoch 5/5\n",
            "469/469 [==============================] - 4s 9ms/step - loss: 0.0376 - accuracy: 0.9891\n"
          ],
          "name": "stdout"
        },
        {
          "output_type": "execute_result",
          "data": {
            "text/plain": [
              "<tensorflow.python.keras.callbacks.History at 0x7f4d27d2bc50>"
            ]
          },
          "metadata": {
            "tags": []
          },
          "execution_count": 18
        }
      ]
    },
    {
      "cell_type": "code",
      "metadata": {
        "id": "U-qMLUwTplCD",
        "colab_type": "code",
        "colab": {
          "base_uri": "https://localhost:8080/",
          "height": 50
        },
        "outputId": "a81743fd-b3f1-4863-e556-46b9fff528a1"
      },
      "source": [
        "test_loss, test_acc = network.evaluate(x = test_images, y = test_labels)\n",
        "print(f\"test_acc: {test_acc}\")"
      ],
      "execution_count": 20,
      "outputs": [
        {
          "output_type": "stream",
          "text": [
            "313/313 [==============================] - 1s 2ms/step - loss: 0.0722 - accuracy: 0.9800\n",
            "test_acc: 0.9800000190734863\n"
          ],
          "name": "stdout"
        }
      ]
    },
    {
      "cell_type": "code",
      "metadata": {
        "id": "LhHuqfeKp0Qu",
        "colab_type": "code",
        "colab": {}
      },
      "source": [
        ""
      ],
      "execution_count": null,
      "outputs": []
    }
  ]
}