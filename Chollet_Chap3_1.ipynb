{
  "nbformat": 4,
  "nbformat_minor": 0,
  "metadata": {
    "colab": {
      "name": "Chollet-Chap3-1.ipynb",
      "provenance": [],
      "collapsed_sections": [],
      "authorship_tag": "ABX9TyNnbIH4iM4hxWJN9mKa3GD3",
      "include_colab_link": true
    },
    "kernelspec": {
      "name": "python3",
      "display_name": "Python 3"
    }
  },
  "cells": [
    {
      "cell_type": "markdown",
      "metadata": {
        "id": "view-in-github",
        "colab_type": "text"
      },
      "source": [
        "<a href=\"https://colab.research.google.com/github/bhadaur1/Chollet/blob/master/Chollet_Chap3_1.ipynb\" target=\"_parent\"><img src=\"https://colab.research.google.com/assets/colab-badge.svg\" alt=\"Open In Colab\"/></a>"
      ]
    },
    {
      "cell_type": "markdown",
      "metadata": {
        "id": "gR_Zvt9oXuDp",
        "colab_type": "text"
      },
      "source": [
        "### Binary classification using IMDB dataset\n",
        "The IMDB dataset comes packaged with Keras. Set of 50,000 highly polarized reviews from the Internet Movie Database. They’re split into 25,000 reviews for training and 25,000 reviews for testing, each set consisting of 50% negative and 50% positive reviews.\n",
        "\n",
        "It has already been preprocessed: the reviews (sequences of words) have been turned into sequences of integers, where each integer stands for a specific word in a dictionary."
      ]
    },
    {
      "cell_type": "code",
      "metadata": {
        "id": "GldCG40m-Zzt",
        "colab_type": "code",
        "colab": {}
      },
      "source": [
        "from tensorflow import keras\n",
        "import numpy as np\n",
        "from keras.datasets import imdb\n",
        "from inspect import getmro"
      ],
      "execution_count": 1,
      "outputs": []
    },
    {
      "cell_type": "code",
      "metadata": {
        "id": "JPrC509o-z8Z",
        "colab_type": "code",
        "colab": {}
      },
      "source": [
        "(train_data, train_labels), (test_data, test_labels) = imdb.load_data(num_words=10000)"
      ],
      "execution_count": 2,
      "outputs": []
    },
    {
      "cell_type": "markdown",
      "metadata": {
        "id": "ADwGSEa3ZMtY",
        "colab_type": "text"
      },
      "source": [
        "The argument num_words=10000 means you’ll only keep the top 10,000 most frequently occurring words in the training data. Rare words will be discarded. "
      ]
    },
    {
      "cell_type": "code",
      "metadata": {
        "id": "I-Fn2PCMH0Tu",
        "colab_type": "code",
        "colab": {
          "base_uri": "https://localhost:8080/",
          "height": 34
        },
        "outputId": "d39f5a5a-2ae1-46c3-fcc8-496f1f1a7289"
      },
      "source": [
        "getmro(type(train_data[0]))"
      ],
      "execution_count": 3,
      "outputs": [
        {
          "output_type": "execute_result",
          "data": {
            "text/plain": [
              "(list, object)"
            ]
          },
          "metadata": {
            "tags": []
          },
          "execution_count": 3
        }
      ]
    },
    {
      "cell_type": "code",
      "metadata": {
        "id": "gHgjm_vAZaV0",
        "colab_type": "code",
        "colab": {}
      },
      "source": [
        "word_index = imdb.get_word_index()"
      ],
      "execution_count": 4,
      "outputs": []
    },
    {
      "cell_type": "code",
      "metadata": {
        "id": "cRuJwl50dFCV",
        "colab_type": "code",
        "colab": {}
      },
      "source": [
        "reverse_word_index = {value: key for key, value in word_index.items()}"
      ],
      "execution_count": 5,
      "outputs": []
    },
    {
      "cell_type": "code",
      "metadata": {
        "id": "87YbAMa4dHNh",
        "colab_type": "code",
        "colab": {}
      },
      "source": [
        "decoded_review = \" \".join([reverse_word_index.get(key-3, \"?\") for key in train_data[0]])"
      ],
      "execution_count": 6,
      "outputs": []
    },
    {
      "cell_type": "code",
      "metadata": {
        "id": "-yPTES73drtq",
        "colab_type": "code",
        "colab": {
          "base_uri": "https://localhost:8080/",
          "height": 137
        },
        "outputId": "d3efffa9-22bd-404b-8bcf-08dfd09b6f4d"
      },
      "source": [
        "decoded_review"
      ],
      "execution_count": 7,
      "outputs": [
        {
          "output_type": "execute_result",
          "data": {
            "application/vnd.google.colaboratory.intrinsic+json": {
              "type": "string"
            },
            "text/plain": [
              "\"? this film was just brilliant casting location scenery story direction everyone's really suited the part they played and you could just imagine being there robert ? is an amazing actor and now the same being director ? father came from the same scottish island as myself so i loved the fact there was a real connection with this film the witty remarks throughout the film were great it was just brilliant so much that i bought the film as soon as it was released for ? and would recommend it to everyone to watch and the fly fishing was amazing really cried at the end it was so sad and you know what they say if you cry at a film it must have been good and this definitely was also ? to the two little boy's that played the ? of norman and paul they were just brilliant children are often left out of the ? list i think because the stars that play them all grown up are such a big profile for the whole film but these children are amazing and should be praised for what they have done don't you think the whole story was so lovely because it was true and was someone's life after all that was shared with us all\""
            ]
          },
          "metadata": {
            "tags": []
          },
          "execution_count": 7
        }
      ]
    },
    {
      "cell_type": "markdown",
      "metadata": {
        "id": "1KPvQc48efa5",
        "colab_type": "text"
      },
      "source": [
        "Note that the indices are offset by 3 because 0, 1, and 2 are reserved indices for “padding,” “start of sequence,” and “unknown.”\n",
        "\n",
        "\n",
        "Let's now vectorize train_data and test_data using one hot encoding."
      ]
    },
    {
      "cell_type": "code",
      "metadata": {
        "id": "XqnJNnRId-xB",
        "colab_type": "code",
        "colab": {}
      },
      "source": [
        "def vectorize_sequences(sequences, dimension=10000):\n",
        "  results = np.zeros((len(sequences), dimension))\n",
        "  for i in range(len(sequences)):\n",
        "    results[i, sequences[i]] = 1\n",
        "  return results\n",
        "\n",
        "x_train = vectorize_sequences(train_data)\n",
        "x_test = vectorize_sequences(test_data)"
      ],
      "execution_count": 8,
      "outputs": []
    },
    {
      "cell_type": "markdown",
      "metadata": {
        "id": "hlp4_txKgSOz",
        "colab_type": "text"
      },
      "source": [
        "Vectorize lables"
      ]
    },
    {
      "cell_type": "code",
      "metadata": {
        "id": "DwiU45RNfsWe",
        "colab_type": "code",
        "colab": {
          "base_uri": "https://localhost:8080/",
          "height": 50
        },
        "outputId": "96c99e55-aaf6-438a-c149-e063cf246936"
      },
      "source": [
        "y_train = train_labels.astype('float32')\n",
        "display(y_train)\n",
        "y_test = test_labels.astype(np.float32)\n",
        "display(y_test)"
      ],
      "execution_count": 9,
      "outputs": [
        {
          "output_type": "display_data",
          "data": {
            "text/plain": [
              "array([1., 0., 0., ..., 0., 1., 0.], dtype=float32)"
            ]
          },
          "metadata": {
            "tags": []
          }
        },
        {
          "output_type": "display_data",
          "data": {
            "text/plain": [
              "array([0., 1., 1., ..., 0., 0., 0.], dtype=float32)"
            ]
          },
          "metadata": {
            "tags": []
          }
        }
      ]
    },
    {
      "cell_type": "markdown",
      "metadata": {
        "id": "pAsovWeuhHDQ",
        "colab_type": "text"
      },
      "source": [
        "### Build the network"
      ]
    },
    {
      "cell_type": "code",
      "metadata": {
        "id": "YJzPIDBkfzRI",
        "colab_type": "code",
        "colab": {
          "base_uri": "https://localhost:8080/",
          "height": 34
        },
        "outputId": "7b86ccc0-9fac-4182-f5ac-623e4440d61f"
      },
      "source": [
        "10/25"
      ],
      "execution_count": 10,
      "outputs": [
        {
          "output_type": "execute_result",
          "data": {
            "text/plain": [
              "0.4"
            ]
          },
          "metadata": {
            "tags": []
          },
          "execution_count": 10
        }
      ]
    },
    {
      "cell_type": "code",
      "metadata": {
        "id": "FBUljnW2grmM",
        "colab_type": "code",
        "colab": {}
      },
      "source": [
        "def get_model_arch():\n",
        "  from keras import models\n",
        "  from keras import layers\n",
        "  \n",
        "  model = models.Sequential()\n",
        "  model.add(layers.Dense(16, activation='relu', input_shape=(10000,)))\n",
        "  model.add(layers.Dense(16, activation='relu'))\n",
        "  model.add(layers.Dense(1, activation='sigmoid'))\n",
        "  return model\n",
        "\n",
        "model = get_model_arch()"
      ],
      "execution_count": 11,
      "outputs": []
    },
    {
      "cell_type": "code",
      "metadata": {
        "id": "WFLzX8L_obzw",
        "colab_type": "code",
        "colab": {}
      },
      "source": [
        "model.compile(optimizer='rmsprop',loss='binary_crossentropy',metrics='accuracy')"
      ],
      "execution_count": 12,
      "outputs": []
    },
    {
      "cell_type": "code",
      "metadata": {
        "id": "PimCMTzSrUAU",
        "colab_type": "code",
        "colab": {
          "base_uri": "https://localhost:8080/",
          "height": 689
        },
        "outputId": "0f9f63d6-e498-4bc8-e904-726d79e889b0"
      },
      "source": [
        "history = model.fit(x=x_train, y=y_train, epochs=20, validation_split=0.4, batch_size=512)"
      ],
      "execution_count": 13,
      "outputs": [
        {
          "output_type": "stream",
          "text": [
            "Epoch 1/20\n",
            "30/30 [==============================] - 1s 42ms/step - loss: 0.5323 - accuracy: 0.7669 - val_loss: 0.4201 - val_accuracy: 0.8308\n",
            "Epoch 2/20\n",
            "30/30 [==============================] - 1s 32ms/step - loss: 0.3173 - accuracy: 0.8981 - val_loss: 0.3101 - val_accuracy: 0.8867\n",
            "Epoch 3/20\n",
            "30/30 [==============================] - 1s 32ms/step - loss: 0.2354 - accuracy: 0.9218 - val_loss: 0.2820 - val_accuracy: 0.8912\n",
            "Epoch 4/20\n",
            "30/30 [==============================] - 1s 32ms/step - loss: 0.1843 - accuracy: 0.9423 - val_loss: 0.2814 - val_accuracy: 0.8858\n",
            "Epoch 5/20\n",
            "30/30 [==============================] - 1s 32ms/step - loss: 0.1507 - accuracy: 0.9545 - val_loss: 0.2929 - val_accuracy: 0.8823\n",
            "Epoch 6/20\n",
            "30/30 [==============================] - 1s 32ms/step - loss: 0.1244 - accuracy: 0.9607 - val_loss: 0.2878 - val_accuracy: 0.8880\n",
            "Epoch 7/20\n",
            "30/30 [==============================] - 1s 32ms/step - loss: 0.1045 - accuracy: 0.9687 - val_loss: 0.3033 - val_accuracy: 0.8858\n",
            "Epoch 8/20\n",
            "30/30 [==============================] - 1s 32ms/step - loss: 0.0873 - accuracy: 0.9746 - val_loss: 0.3266 - val_accuracy: 0.8817\n",
            "Epoch 9/20\n",
            "30/30 [==============================] - 1s 31ms/step - loss: 0.0730 - accuracy: 0.9807 - val_loss: 0.3454 - val_accuracy: 0.8799\n",
            "Epoch 10/20\n",
            "30/30 [==============================] - 1s 31ms/step - loss: 0.0594 - accuracy: 0.9855 - val_loss: 0.3680 - val_accuracy: 0.8790\n",
            "Epoch 11/20\n",
            "30/30 [==============================] - 1s 32ms/step - loss: 0.0514 - accuracy: 0.9873 - val_loss: 0.3926 - val_accuracy: 0.8781\n",
            "Epoch 12/20\n",
            "30/30 [==============================] - 1s 32ms/step - loss: 0.0411 - accuracy: 0.9903 - val_loss: 0.4869 - val_accuracy: 0.8608\n",
            "Epoch 13/20\n",
            "30/30 [==============================] - 1s 32ms/step - loss: 0.0334 - accuracy: 0.9932 - val_loss: 0.4564 - val_accuracy: 0.8716\n",
            "Epoch 14/20\n",
            "30/30 [==============================] - 1s 32ms/step - loss: 0.0264 - accuracy: 0.9943 - val_loss: 0.4891 - val_accuracy: 0.8725\n",
            "Epoch 15/20\n",
            "30/30 [==============================] - 1s 32ms/step - loss: 0.0204 - accuracy: 0.9962 - val_loss: 0.5280 - val_accuracy: 0.8688\n",
            "Epoch 16/20\n",
            "30/30 [==============================] - 1s 31ms/step - loss: 0.0173 - accuracy: 0.9965 - val_loss: 0.5613 - val_accuracy: 0.8705\n",
            "Epoch 17/20\n",
            "30/30 [==============================] - 1s 32ms/step - loss: 0.0124 - accuracy: 0.9985 - val_loss: 0.6080 - val_accuracy: 0.8673\n",
            "Epoch 18/20\n",
            "30/30 [==============================] - 1s 32ms/step - loss: 0.0119 - accuracy: 0.9974 - val_loss: 0.6468 - val_accuracy: 0.8671\n",
            "Epoch 19/20\n",
            "30/30 [==============================] - 1s 32ms/step - loss: 0.0058 - accuracy: 0.9995 - val_loss: 0.6955 - val_accuracy: 0.8659\n",
            "Epoch 20/20\n",
            "30/30 [==============================] - 1s 31ms/step - loss: 0.0074 - accuracy: 0.9981 - val_loss: 0.7230 - val_accuracy: 0.8659\n"
          ],
          "name": "stdout"
        }
      ]
    },
    {
      "cell_type": "code",
      "metadata": {
        "id": "YGdPpXwasIl4",
        "colab_type": "code",
        "colab": {
          "base_uri": "https://localhost:8080/",
          "height": 34
        },
        "outputId": "4f5de77d-e3c5-478b-d1cc-9d2a9d110145"
      },
      "source": [
        "history_dict = history.history\n",
        "history_dict.keys()"
      ],
      "execution_count": 14,
      "outputs": [
        {
          "output_type": "execute_result",
          "data": {
            "text/plain": [
              "dict_keys(['loss', 'accuracy', 'val_loss', 'val_accuracy'])"
            ]
          },
          "metadata": {
            "tags": []
          },
          "execution_count": 14
        }
      ]
    },
    {
      "cell_type": "code",
      "metadata": {
        "id": "J-BmhcJosRy7",
        "colab_type": "code",
        "colab": {
          "base_uri": "https://localhost:8080/",
          "height": 295
        },
        "outputId": "0af0313e-9457-44a9-b65c-55d8c762fd40"
      },
      "source": [
        "import matplotlib.pyplot as plt\n",
        "\n",
        "def plot_loss(history):\n",
        "\n",
        "  history_dict = history.history\n",
        "  loss_values = history_dict['loss']\n",
        "  val_loss_values = history_dict['val_loss']\n",
        "  epochs = history.epoch\n",
        "\n",
        "  plt.plot(epochs, loss_values, 'bo', label='Training Loss')\n",
        "  plt.plot(epochs, val_loss_values, 'b', label='Validation Loss')\n",
        "  plt.title('Training and Validation Loss')\n",
        "  plt.xlabel('Epochs')\n",
        "  plt.ylabel('Loss')\n",
        "  plt.legend()\n",
        "\n",
        "  plt.show()\n",
        "\n",
        "plot_loss(history)"
      ],
      "execution_count": 21,
      "outputs": [
        {
          "output_type": "display_data",
          "data": {
            "image/png": "[encoded data removed]",
            "text/plain": [
              "<Figure size 432x288 with 1 Axes>"
            ]
          },
          "metadata": {
            "tags": [],
            "needs_background": "light"
          }
        }
      ]
    },
    {
      "cell_type": "code",
      "metadata": {
        "id": "PKISBRV7tPKi",
        "colab_type": "code",
        "colab": {
          "base_uri": "https://localhost:8080/",
          "height": 295
        },
        "outputId": "a836781e-e52a-420c-a51a-39943a8f2656"
      },
      "source": [
        "def plot_accuracy(history):\n",
        "  history_dict = history.history\n",
        "  accuracy = history_dict['accuracy']\n",
        "  val_accuracy_values = history_dict['val_accuracy']\n",
        "  epochs = history.epoch\n",
        "  plt.plot(epochs, accuracy, 'bo', label='Training Accuracy')\n",
        "  plt.plot(epochs, val_accuracy_values, 'b', label='Validation Accuracy')\n",
        "  plt.title('Training and Validation Accuracy')\n",
        "  plt.xlabel('Epochs')\n",
        "  plt.ylabel('Accuracy')\n",
        "  plt.legend()\n",
        "\n",
        "  plt.show()\n",
        "\n",
        "plot_accuracy(history)"
      ],
      "execution_count": 25,
      "outputs": [
        {
          "output_type": "display_data",
          "data": {
            "image/png": "[encoded data removed]",
            "text/plain": [
              "<Figure size 432x288 with 1 Axes>"
            ]
          },
          "metadata": {
            "tags": [],
            "needs_background": "light"
          }
        }
      ]
    },
    {
      "cell_type": "markdown",
      "metadata": {
        "id": "d0RPSH7DuUgG",
        "colab_type": "text"
      },
      "source": [
        "Avoid overfitting: restrict training after 4 epochs"
      ]
    },
    {
      "cell_type": "code",
      "metadata": {
        "id": "NUxReNZTtd_V",
        "colab_type": "code",
        "colab": {
          "base_uri": "https://localhost:8080/",
          "height": 168
        },
        "outputId": "f53072ab-b397-47a3-ab16-652af5d99674"
      },
      "source": [
        "def new_model_training(epochs=1):\n",
        "  from keras import models, layers\n",
        "  model = models.Sequential()\n",
        "  model.add(layers.Dense(16, activation='relu', input_shape=(10000,)))\n",
        "  model.add(layers.Dense(16, activation='relu'))\n",
        "  model.add(layers.Dense(1, activation='sigmoid'))\n",
        "\n",
        "  model.compile(optimizer='rmsprop',\n",
        "                loss='binary_crossentropy',\n",
        "                metrics=['accuracy'])\n",
        "\n",
        "  history = model.fit(x_train, y_train, epochs=epochs, batch_size=512, validation_split=0.4)\n",
        "  results = model.evaluate(x_test, y_test)\n",
        "  return model, history, results\n",
        "\n",
        "newmodel, newhistory, test_eval_results = new_model_training(4)"
      ],
      "execution_count": 49,
      "outputs": [
        {
          "output_type": "stream",
          "text": [
            "Epoch 1/4\n",
            "30/30 [==============================] - 1s 37ms/step - loss: 0.5523 - accuracy: 0.7793 - val_loss: 0.4262 - val_accuracy: 0.8671\n",
            "Epoch 2/4\n",
            "30/30 [==============================] - 1s 30ms/step - loss: 0.3418 - accuracy: 0.8972 - val_loss: 0.3304 - val_accuracy: 0.8766\n",
            "Epoch 3/4\n",
            "30/30 [==============================] - 1s 29ms/step - loss: 0.2463 - accuracy: 0.9203 - val_loss: 0.2861 - val_accuracy: 0.8897\n",
            "Epoch 4/4\n",
            "30/30 [==============================] - 1s 30ms/step - loss: 0.1932 - accuracy: 0.9363 - val_loss: 0.2770 - val_accuracy: 0.8881\n",
            "782/782 [==============================] - 1s 1ms/step - loss: 0.2923 - accuracy: 0.8824\n"
          ],
          "name": "stdout"
        }
      ]
    },
    {
      "cell_type": "code",
      "metadata": {
        "id": "xeE7cERguGGT",
        "colab_type": "code",
        "colab": {
          "base_uri": "https://localhost:8080/",
          "height": 34
        },
        "outputId": "7d4950ea-1f89-49ca-e4cd-431df07e8bc4"
      },
      "source": [
        "test_eval_results"
      ],
      "execution_count": 40,
      "outputs": [
        {
          "output_type": "execute_result",
          "data": {
            "text/plain": [
              "[0.10627175867557526, 0.8546000123023987]"
            ]
          },
          "metadata": {
            "tags": []
          },
          "execution_count": 40
        }
      ]
    },
    {
      "cell_type": "code",
      "metadata": {
        "id": "TJQdo0h6uOVf",
        "colab_type": "code",
        "colab": {
          "base_uri": "https://localhost:8080/",
          "height": 134
        },
        "outputId": "5d116a23-a849-4c0b-dae3-25ad72e97806"
      },
      "source": [
        "newmodel.predict(x_test)"
      ],
      "execution_count": 41,
      "outputs": [
        {
          "output_type": "execute_result",
          "data": {
            "text/plain": [
              "array([[0.19827276],\n",
              "       [0.99731517],\n",
              "       [0.14237401],\n",
              "       ...,\n",
              "       [0.12825796],\n",
              "       [0.08282337],\n",
              "       [0.11610967]], dtype=float32)"
            ]
          },
          "metadata": {
            "tags": []
          },
          "execution_count": 41
        }
      ]
    },
    {
      "cell_type": "code",
      "metadata": {
        "id": "j_g_XPqvuSas",
        "colab_type": "code",
        "colab": {
          "base_uri": "https://localhost:8080/",
          "height": 573
        },
        "outputId": "407a82d1-9b9f-4a41-fbed-04fa8889e7b9"
      },
      "source": [
        "plot_loss(newhistory)\n",
        "plot_accuracy(newhistory)"
      ],
      "execution_count": 50,
      "outputs": [
        {
          "output_type": "display_data",
          "data": {
            "image/png": "[encoded data removed]",
            "text/plain": [
              "<Figure size 432x288 with 1 Axes>"
            ]
          },
          "metadata": {
            "tags": [],
            "needs_background": "light"
          }
        },
        {
          "output_type": "display_data",
          "data": {
            "image/png": "[encoded data removed]",
            "text/plain": [
              "<Figure size 432x288 with 1 Axes>"
            ]
          },
          "metadata": {
            "tags": [],
            "needs_background": "light"
          }
        }
      ]
    },
    {
      "cell_type": "code",
      "metadata": {
        "id": "1_Mcca0avmh-",
        "colab_type": "code",
        "colab": {}
      },
      "source": [
        ""
      ],
      "execution_count": null,
      "outputs": []
    }
  ]
}