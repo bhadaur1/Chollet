{
  "nbformat": 4,
  "nbformat_minor": 0,
  "metadata": {
    "colab": {
      "name": "Chollet-Chap3-2.ipynb",
      "provenance": [],
      "collapsed_sections": [],
      "authorship_tag": "ABX9TyOGr4TEsycYJqe8kqxzyos4",
      "include_colab_link": true
    },
    "kernelspec": {
      "name": "python3",
      "display_name": "Python 3"
    },
    "accelerator": "GPU"
  },
  "cells": [
    {
      "cell_type": "markdown",
      "metadata": {
        "id": "view-in-github",
        "colab_type": "text"
      },
      "source": [
        "<a href=\"https://colab.research.google.com/github/bhadaur1/Chollet/blob/master/Chollet_Chap3_2.ipynb\" target=\"_parent\"><img src=\"https://colab.research.google.com/assets/colab-badge.svg\" alt=\"Open In Colab\"/></a>"
      ]
    },
    {
      "cell_type": "markdown",
      "metadata": {
        "id": "KJxiTYAA0Tf4",
        "colab_type": "text"
      },
      "source": [
        "### Multiclass classification using Reuters dataset"
      ]
    },
    {
      "cell_type": "code",
      "metadata": {
        "id": "BeiCiIkI0RB_",
        "colab_type": "code",
        "colab": {}
      },
      "source": [
        "from tensorflow import keras\n",
        "import matplotlib.pyplot as plt\n",
        "import numpy as np\n",
        "from keras.datasets import reuters"
      ],
      "execution_count": 2,
      "outputs": []
    },
    {
      "cell_type": "code",
      "metadata": {
        "id": "uslFRTt08oQE",
        "colab_type": "code",
        "colab": {
          "base_uri": "https://localhost:8080/",
          "height": 50
        },
        "outputId": "6a46d719-779a-435e-e401-451599cbe62d"
      },
      "source": [
        "(train_data, train_labels), (test_data, test_labels) = reuters.load_data(num_words=10000)"
      ],
      "execution_count": 3,
      "outputs": [
        {
          "output_type": "stream",
          "text": [
            "Downloading data from https://storage.googleapis.com/tensorflow/tf-keras-datasets/reuters.npz\n",
            "2113536/2110848 [==============================] - 0s 0us/step\n"
          ],
          "name": "stdout"
        }
      ]
    },
    {
      "cell_type": "code",
      "metadata": {
        "id": "C2YbHgCk9DVa",
        "colab_type": "code",
        "colab": {
          "base_uri": "https://localhost:8080/",
          "height": 34
        },
        "outputId": "50bdc4c9-b16e-4dc4-d7fd-7ec05416d23a"
      },
      "source": [
        "1000/len(train_data)"
      ],
      "execution_count": 4,
      "outputs": [
        {
          "output_type": "execute_result",
          "data": {
            "text/plain": [
              "0.11133377866844801"
            ]
          },
          "metadata": {
            "tags": []
          },
          "execution_count": 4
        }
      ]
    },
    {
      "cell_type": "code",
      "metadata": {
        "id": "i09dQKL39Eek",
        "colab_type": "code",
        "colab": {
          "base_uri": "https://localhost:8080/",
          "height": 136
        },
        "outputId": "432661ff-6b28-48cc-8a0b-2093e961026b"
      },
      "source": [
        "def decode_line(train_data, lineno=0):\n",
        "  word_index = reuters.get_word_index()\n",
        "  reverse_word_index = {value: key for key, value in word_index.items()}\n",
        "  return \" \".join([reverse_word_index.get(i-3, \"?\") for i in train_data[lineno]])\n",
        "\n",
        "decode_line(train_data, -1)"
      ],
      "execution_count": 5,
      "outputs": [
        {
          "output_type": "stream",
          "text": [
            "Downloading data from https://storage.googleapis.com/tensorflow/tf-keras-datasets/reuters_word_index.json\n",
            "557056/550378 [==============================] - 0s 0us/step\n"
          ],
          "name": "stdout"
        },
        {
          "output_type": "execute_result",
          "data": {
            "application/vnd.google.colaboratory.intrinsic+json": {
              "type": "string"
            },
            "text/plain": [
              "\"? currency fluctuations may ? their influence on the bullion market in the near future bullion bankers samuel montagu and co ltd said in a market report but the firm said silver may lag behind gold in any reactions to movements on foreign exchanges opec's failure to address the recent decline in oil prices remains a worrying factor however and on balance it appears that the market should be approached cautiously montagu said the bank said the us economy has shown no ? long term improvement and that both latin american debt and the iranian arms affair could undermine confidence in the dollar reuter 3\""
            ]
          },
          "metadata": {
            "tags": []
          },
          "execution_count": 5
        }
      ]
    },
    {
      "cell_type": "code",
      "metadata": {
        "id": "yB2NSmmQ-Mox",
        "colab_type": "code",
        "colab": {}
      },
      "source": [
        "def vectorize_data(train_data, train_labels, test_data, test_labels, dimension = 10000):\n",
        "\n",
        "  def vectorize_sequences(sequences, dimension = dimension):\n",
        "    one_hot_encoded = np.zeros((len(sequences), dimension))\n",
        "    for i in range(len(sequences)):\n",
        "      one_hot_encoded[i, sequences[i]] = 1\n",
        "    return one_hot_encoded\n",
        "\n",
        "  x_train = vectorize_sequences(train_data)\n",
        "  y_train = train_labels.astype('int')\n",
        "\n",
        "  x_test = vectorize_sequences(test_data)\n",
        "  y_test = test_labels.astype('int')\n",
        "\n",
        "  return x_train, y_train, x_test, y_test\n",
        "\n",
        "x_train, y_train, x_test, y_test = vectorize_data(train_data, train_labels, test_data, test_labels)"
      ],
      "execution_count": 6,
      "outputs": []
    },
    {
      "cell_type": "code",
      "metadata": {
        "id": "Sa7CPHfw_2Ub",
        "colab_type": "code",
        "colab": {
          "base_uri": "https://localhost:8080/",
          "height": 336
        },
        "outputId": "6ec72ef1-bd57-4fa7-8c17-8023bb6077e2"
      },
      "source": [
        "%%time\n",
        "def model_training(epochs=1):\n",
        "  from keras import models, layers\n",
        "  model = models.Sequential()\n",
        "  model.add(layers.Dense(64, activation='relu', input_shape=(10000,)))\n",
        "  model.add(layers.Dense(64, activation='relu'))\n",
        "  model.add(layers.Dense(46, activation='softmax'))\n",
        "\n",
        "  model.compile(optimizer='rmsprop',\n",
        "                loss='sparse_categorical_crossentropy',\n",
        "                metrics=['accuracy'])\n",
        "\n",
        "  history = model.fit(x_train, y_train, epochs=epochs, batch_size=512, validation_split=0.111)\n",
        "  results = model.evaluate(x_test, y_test)\n",
        "  return model, history, results\n",
        "\n",
        "model, history, test_eval_results = model_training(8)"
      ],
      "execution_count": 15,
      "outputs": [
        {
          "output_type": "stream",
          "text": [
            "Epoch 1/8\n",
            "16/16 [==============================] - 0s 20ms/step - loss: 2.6074 - accuracy: 0.4622 - val_loss: 1.8082 - val_accuracy: 0.6483\n",
            "Epoch 2/8\n",
            "16/16 [==============================] - 0s 13ms/step - loss: 1.4279 - accuracy: 0.7058 - val_loss: 1.3823 - val_accuracy: 0.7114\n",
            "Epoch 3/8\n",
            "16/16 [==============================] - 0s 13ms/step - loss: 1.0537 - accuracy: 0.7751 - val_loss: 1.2072 - val_accuracy: 0.7425\n",
            "Epoch 4/8\n",
            "16/16 [==============================] - 0s 13ms/step - loss: 0.8216 - accuracy: 0.8314 - val_loss: 1.1142 - val_accuracy: 0.7585\n",
            "Epoch 5/8\n",
            "16/16 [==============================] - 0s 14ms/step - loss: 0.6617 - accuracy: 0.8632 - val_loss: 1.0617 - val_accuracy: 0.7735\n",
            "Epoch 6/8\n",
            "16/16 [==============================] - 0s 13ms/step - loss: 0.5226 - accuracy: 0.8923 - val_loss: 1.0299 - val_accuracy: 0.7926\n",
            "Epoch 7/8\n",
            "16/16 [==============================] - 0s 13ms/step - loss: 0.4224 - accuracy: 0.9118 - val_loss: 1.0104 - val_accuracy: 0.8006\n",
            "Epoch 8/8\n",
            "16/16 [==============================] - 0s 13ms/step - loss: 0.3497 - accuracy: 0.9262 - val_loss: 0.9877 - val_accuracy: 0.7986\n",
            "71/71 [==============================] - 0s 2ms/step - loss: 0.9512 - accuracy: 0.7907\n",
            "CPU times: user 3.19 s, sys: 159 ms, total: 3.35 s\n",
            "Wall time: 2.67 s\n"
          ],
          "name": "stdout"
        }
      ]
    },
    {
      "cell_type": "code",
      "metadata": {
        "id": "d91p58aRAHwB",
        "colab_type": "code",
        "colab": {
          "base_uri": "https://localhost:8080/",
          "height": 295
        },
        "outputId": "5c00fa6a-d652-414d-df01-d1e295941b7f"
      },
      "source": [
        "def plot_loss(history):\n",
        "\n",
        "  history_dict = history.history\n",
        "  loss_values = history_dict['loss']\n",
        "  val_loss_values = history_dict['val_loss']\n",
        "  epochs = history.epoch\n",
        "\n",
        "  plt.plot(epochs, loss_values, 'bo', label='Training Loss')\n",
        "  plt.plot(epochs, val_loss_values, 'b', label='Validation Loss')\n",
        "  plt.title('Training and Validation Loss')\n",
        "  plt.xlabel('Epochs')\n",
        "  plt.ylabel('Loss')\n",
        "  plt.legend()\n",
        "\n",
        "  plt.show()\n",
        "\n",
        "plot_loss(history)\n"
      ],
      "execution_count": 12,
      "outputs": [
        {
          "output_type": "display_data",
          "data": {
            "image/png": "[encoded data removed]",
            "text/plain": [
              "<Figure size 432x288 with 1 Axes>"
            ]
          },
          "metadata": {
            "tags": [],
            "needs_background": "light"
          }
        }
      ]
    },
    {
      "cell_type": "code",
      "metadata": {
        "id": "oMs5mVRqBHLv",
        "colab_type": "code",
        "colab": {
          "base_uri": "https://localhost:8080/",
          "height": 295
        },
        "outputId": "54043128-6b00-461a-95ac-cde2b2d9c70b"
      },
      "source": [
        "def plot_accuracy(history):\n",
        "  history_dict = history.history\n",
        "  accuracy = history_dict['accuracy']\n",
        "  val_accuracy_values = history_dict['val_accuracy']\n",
        "  epochs = history.epoch\n",
        "  plt.plot(epochs, accuracy, 'bo', label='Training Accuracy')\n",
        "  plt.plot(epochs, val_accuracy_values, 'b', label='Validation Accuracy')\n",
        "  plt.title('Training and Validation Accuracy')\n",
        "  plt.xlabel('Epochs')\n",
        "  plt.ylabel('Accuracy')\n",
        "  plt.legend()\n",
        "\n",
        "  plt.show()\n",
        "\n",
        "plot_accuracy(history)"
      ],
      "execution_count": 13,
      "outputs": [
        {
          "output_type": "display_data",
          "data": {
            "image/png": "[encoded data removed]",
            "text/plain": [
              "<Figure size 432x288 with 1 Axes>"
            ]
          },
          "metadata": {
            "tags": [],
            "needs_background": "light"
          }
        }
      ]
    },
    {
      "cell_type": "code",
      "metadata": {
        "id": "fniqVewBBauz",
        "colab_type": "code",
        "colab": {
          "base_uri": "https://localhost:8080/",
          "height": 34
        },
        "outputId": "77d9e142-5e9a-4301-dddb-b7d5dd0c508f"
      },
      "source": [
        "test_eval_results"
      ],
      "execution_count": 16,
      "outputs": [
        {
          "output_type": "execute_result",
          "data": {
            "text/plain": [
              "[0.9512143731117249, 0.790739119052887]"
            ]
          },
          "metadata": {
            "tags": []
          },
          "execution_count": 16
        }
      ]
    },
    {
      "cell_type": "code",
      "metadata": {
        "id": "g-F8eNL8CnfQ",
        "colab_type": "code",
        "colab": {}
      },
      "source": [
        "predictions = model.predict(x_test)"
      ],
      "execution_count": 19,
      "outputs": []
    },
    {
      "cell_type": "code",
      "metadata": {
        "id": "DpGk97GTC_mh",
        "colab_type": "code",
        "colab": {
          "base_uri": "https://localhost:8080/",
          "height": 34
        },
        "outputId": "906c794b-e88b-4b72-8958-fae625cd77da"
      },
      "source": [
        "predictions.shape"
      ],
      "execution_count": 20,
      "outputs": [
        {
          "output_type": "execute_result",
          "data": {
            "text/plain": [
              "(2246, 46)"
            ]
          },
          "metadata": {
            "tags": []
          },
          "execution_count": 20
        }
      ]
    },
    {
      "cell_type": "code",
      "metadata": {
        "id": "8CVG0V7ADGSe",
        "colab_type": "code",
        "colab": {
          "base_uri": "https://localhost:8080/",
          "height": 87
        },
        "outputId": "945ff27b-a262-4e6d-8bbb-1fbbcca54a83"
      },
      "source": [
        "predictions_class = model.predict_classes(x_test)"
      ],
      "execution_count": 21,
      "outputs": [
        {
          "output_type": "stream",
          "text": [
            "WARNING:tensorflow:From <ipython-input-21-45edc124daaa>:1: Sequential.predict_classes (from tensorflow.python.keras.engine.sequential) is deprecated and will be removed after 2021-01-01.\n",
            "Instructions for updating:\n",
            "Please use instead:* `np.argmax(model.predict(x), axis=-1)`,   if your model does multi-class classification   (e.g. if it uses a `softmax` last-layer activation).* `(model.predict(x) > 0.5).astype(\"int32\")`,   if your model does binary classification   (e.g. if it uses a `sigmoid` last-layer activation).\n"
          ],
          "name": "stdout"
        }
      ]
    },
    {
      "cell_type": "code",
      "metadata": {
        "id": "4dBj1nHgDKRY",
        "colab_type": "code",
        "colab": {
          "base_uri": "https://localhost:8080/",
          "height": 34
        },
        "outputId": "11050010-7969-4135-8518-b4ff1b277cf4"
      },
      "source": [
        "predictions_class"
      ],
      "execution_count": 28,
      "outputs": [
        {
          "output_type": "execute_result",
          "data": {
            "text/plain": [
              "array([ 3, 10,  1, ...,  3,  4,  1])"
            ]
          },
          "metadata": {
            "tags": []
          },
          "execution_count": 28
        }
      ]
    },
    {
      "cell_type": "code",
      "metadata": {
        "id": "1FWGYvhiDQ4S",
        "colab_type": "code",
        "colab": {
          "base_uri": "https://localhost:8080/",
          "height": 34
        },
        "outputId": "571d9229-f9d5-4af3-979a-93487a7fced5"
      },
      "source": [
        "np.all(np.argmax(model.predict(x_test), axis=-1) == predictions_class)"
      ],
      "execution_count": 29,
      "outputs": [
        {
          "output_type": "execute_result",
          "data": {
            "text/plain": [
              "True"
            ]
          },
          "metadata": {
            "tags": []
          },
          "execution_count": 29
        }
      ]
    },
    {
      "cell_type": "code",
      "metadata": {
        "id": "46rCUS-HDVFK",
        "colab_type": "code",
        "colab": {}
      },
      "source": [
        ""
      ],
      "execution_count": null,
      "outputs": []
    }
  ]
}