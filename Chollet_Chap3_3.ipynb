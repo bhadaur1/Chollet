{
  "nbformat": 4,
  "nbformat_minor": 0,
  "metadata": {
    "colab": {
      "name": "Chollet_Chap3_3.ipynb",
      "provenance": [],
      "authorship_tag": "ABX9TyMyCp6v1eLA7axYikSz07Bd",
      "include_colab_link": true
    },
    "kernelspec": {
      "name": "python3",
      "display_name": "Python 3"
    }
  },
  "cells": [
    {
      "cell_type": "markdown",
      "metadata": {
        "id": "view-in-github",
        "colab_type": "text"
      },
      "source": [
        "<a href=\"https://colab.research.google.com/github/bhadaur1/Chollet/blob/master/Chollet_Chap3_3.ipynb\" target=\"_parent\"><img src=\"https://colab.research.google.com/assets/colab-badge.svg\" alt=\"Open In Colab\"/></a>"
      ]
    },
    {
      "cell_type": "markdown",
      "metadata": {
        "id": "Ar1W3Am8Fet8",
        "colab_type": "text"
      },
      "source": [
        "### Linear Regression using Boston Housing dataset"
      ]
    },
    {
      "cell_type": "code",
      "metadata": {
        "id": "cLmCkMgkFWRV",
        "colab_type": "code",
        "colab": {}
      },
      "source": [
        "from tensorflow import keras\n",
        "import matplotlib.pyplot as plt\n",
        "import numpy as np\n",
        "from keras.datasets import boston_housing"
      ],
      "execution_count": 1,
      "outputs": []
    },
    {
      "cell_type": "code",
      "metadata": {
        "id": "x_w7Myn9FqU6",
        "colab_type": "code",
        "colab": {
          "base_uri": "https://localhost:8080/",
          "height": 50
        },
        "outputId": "771362db-cebc-414a-ed7c-ea4a3f68de0e"
      },
      "source": [
        "(train_data, train_targets), (test_data, test_targets) = boston_housing.load_data()"
      ],
      "execution_count": 2,
      "outputs": [
        {
          "output_type": "stream",
          "text": [
            "Downloading data from https://storage.googleapis.com/tensorflow/tf-keras-datasets/boston_housing.npz\n",
            "57344/57026 [==============================] - 0s 0us/step\n"
          ],
          "name": "stdout"
        }
      ]
    },
    {
      "cell_type": "code",
      "metadata": {
        "id": "Ua2bL8alG5x6",
        "colab_type": "code",
        "colab": {
          "base_uri": "https://localhost:8080/",
          "height": 34
        },
        "outputId": "076edf8b-5669-49e1-8757-bda36d11e4ac"
      },
      "source": [
        "train_data.shape"
      ],
      "execution_count": 3,
      "outputs": [
        {
          "output_type": "execute_result",
          "data": {
            "text/plain": [
              "(404, 13)"
            ]
          },
          "metadata": {
            "tags": []
          },
          "execution_count": 3
        }
      ]
    },
    {
      "cell_type": "code",
      "metadata": {
        "id": "F3n2tcBdFzgh",
        "colab_type": "code",
        "colab": {}
      },
      "source": [
        "def prepare_data(train_data, train_targets, test_data, test_targets):\n",
        "\n",
        "  def normalize_dataset(dataset, mean=None, std=None):\n",
        "    dataset = dataset.copy()\n",
        "    if mean is None and std is None:\n",
        "      mean = np.mean(dataset, axis=0)\n",
        "      std = np.std(dataset, axis=0)\n",
        "    dataset = (dataset - mean) / std\n",
        "    return dataset, mean, std\n",
        "\n",
        "  x_train, train_mean, train_std = normalize_dataset(train_data)\n",
        "  y_train = train_targets.copy()\n",
        "\n",
        "  x_test, _, _ = normalize_dataset(test_data, train_mean, train_std)\n",
        "  y_test = test_targets.copy()\n",
        "\n",
        "  return x_train, y_train, x_test, y_test\n",
        "\n",
        "x_train, y_train, x_test, y_test = prepare_data(train_data, train_targets, test_data, test_targets)"
      ],
      "execution_count": 4,
      "outputs": []
    },
    {
      "cell_type": "code",
      "metadata": {
        "id": "-UG3Tmj4JduT",
        "colab_type": "code",
        "colab": {
          "base_uri": "https://localhost:8080/",
          "height": 739
        },
        "outputId": "07a41ee3-b910-4a6c-f0e5-ddc78077c9ec"
      },
      "source": [
        "%%time\n",
        "def model_training(epochs=1):\n",
        "  from keras import models, layers\n",
        "  model = models.Sequential()\n",
        "  model.add(layers.Dense(64, activation='relu', input_shape=(x_train.shape[1],)))\n",
        "  model.add(layers.Dense(64, activation='relu'))\n",
        "  model.add(layers.Dense(1))\n",
        "\n",
        "  model.compile(optimizer='rmsprop',\n",
        "                loss='huber',\n",
        "                metrics=['mae'])\n",
        "\n",
        "  history = model.fit(x_train, y_train, epochs=epochs, batch_size=32, validation_split=0.111)\n",
        "  results = model.evaluate(x_test, y_test)\n",
        "  return model, history, results\n",
        "\n",
        "model, history, test_eval_results = model_training(20)"
      ],
      "execution_count": 12,
      "outputs": [
        {
          "output_type": "stream",
          "text": [
            "Epoch 1/20\n",
            "12/12 [==============================] - 0s 11ms/step - loss: 21.1632 - mae: 21.6632 - val_loss: 19.5498 - val_mae: 20.0498\n",
            "Epoch 2/20\n",
            "12/12 [==============================] - 0s 3ms/step - loss: 19.0979 - mae: 19.5979 - val_loss: 17.4370 - val_mae: 17.9370\n",
            "Epoch 3/20\n",
            "12/12 [==============================] - 0s 3ms/step - loss: 16.7736 - mae: 17.2692 - val_loss: 14.9901 - val_mae: 15.4901\n",
            "Epoch 4/20\n",
            "12/12 [==============================] - 0s 3ms/step - loss: 14.0723 - mae: 14.5700 - val_loss: 12.1849 - val_mae: 12.6814\n",
            "Epoch 5/20\n",
            "12/12 [==============================] - 0s 2ms/step - loss: 11.0924 - mae: 11.5875 - val_loss: 9.1522 - val_mae: 9.6404\n",
            "Epoch 6/20\n",
            "12/12 [==============================] - 0s 3ms/step - loss: 8.4388 - mae: 8.9254 - val_loss: 6.7735 - val_mae: 7.2597\n",
            "Epoch 7/20\n",
            "12/12 [==============================] - 0s 2ms/step - loss: 6.7549 - mae: 7.2387 - val_loss: 5.5965 - val_mae: 6.0678\n",
            "Epoch 8/20\n",
            "12/12 [==============================] - 0s 3ms/step - loss: 5.8534 - mae: 6.3355 - val_loss: 4.6186 - val_mae: 5.1006\n",
            "Epoch 9/20\n",
            "12/12 [==============================] - 0s 3ms/step - loss: 5.0120 - mae: 5.4959 - val_loss: 3.7951 - val_mae: 4.2699\n",
            "Epoch 10/20\n",
            "12/12 [==============================] - 0s 3ms/step - loss: 4.3267 - mae: 4.8056 - val_loss: 3.2784 - val_mae: 3.7469\n",
            "Epoch 11/20\n",
            "12/12 [==============================] - 0s 2ms/step - loss: 3.7373 - mae: 4.2107 - val_loss: 3.2834 - val_mae: 3.7687\n",
            "Epoch 12/20\n",
            "12/12 [==============================] - 0s 3ms/step - loss: 3.2613 - mae: 3.7334 - val_loss: 2.8217 - val_mae: 3.3021\n",
            "Epoch 13/20\n",
            "12/12 [==============================] - 0s 2ms/step - loss: 2.9619 - mae: 3.4233 - val_loss: 2.6677 - val_mae: 3.1123\n",
            "Epoch 14/20\n",
            "12/12 [==============================] - 0s 3ms/step - loss: 2.7576 - mae: 3.2163 - val_loss: 2.8645 - val_mae: 3.3441\n",
            "Epoch 15/20\n",
            "12/12 [==============================] - 0s 3ms/step - loss: 2.6185 - mae: 3.0756 - val_loss: 2.3711 - val_mae: 2.8292\n",
            "Epoch 16/20\n",
            "12/12 [==============================] - 0s 2ms/step - loss: 2.4985 - mae: 2.9574 - val_loss: 2.3069 - val_mae: 2.7648\n",
            "Epoch 17/20\n",
            "12/12 [==============================] - 0s 3ms/step - loss: 2.4517 - mae: 2.9079 - val_loss: 2.2363 - val_mae: 2.6958\n",
            "Epoch 18/20\n",
            "12/12 [==============================] - 0s 3ms/step - loss: 2.3317 - mae: 2.7812 - val_loss: 2.2150 - val_mae: 2.6798\n",
            "Epoch 19/20\n",
            "12/12 [==============================] - 0s 3ms/step - loss: 2.2542 - mae: 2.7042 - val_loss: 2.3831 - val_mae: 2.8365\n",
            "Epoch 20/20\n",
            "12/12 [==============================] - 0s 3ms/step - loss: 2.2049 - mae: 2.6571 - val_loss: 2.0788 - val_mae: 2.5378\n",
            "4/4 [==============================] - 0s 2ms/step - loss: 2.8127 - mae: 3.2682\n",
            "CPU times: user 1.43 s, sys: 74.5 ms, total: 1.5 s\n",
            "Wall time: 1.52 s\n"
          ],
          "name": "stdout"
        }
      ]
    },
    {
      "cell_type": "code",
      "metadata": {
        "id": "2gyHsxBwKtSU",
        "colab_type": "code",
        "colab": {
          "base_uri": "https://localhost:8080/",
          "height": 295
        },
        "outputId": "486bf90f-4a47-470f-c6e5-444c12756cbd"
      },
      "source": [
        "def plot_loss(history):\n",
        "\n",
        "  history_dict = history.history\n",
        "  loss_values = history_dict['loss']\n",
        "  val_loss_values = history_dict['val_loss']\n",
        "  epochs = np.array(history.epoch)\n",
        "\n",
        "  plt.plot(epochs-0.5, loss_values, 'bo', label='Training Loss')\n",
        "  plt.plot(epochs, val_loss_values, 'b', label='Validation Loss')\n",
        "  plt.title('Training and Validation Loss')\n",
        "  plt.xlabel('Epochs')\n",
        "  plt.ylabel('Loss')\n",
        "  plt.legend()\n",
        "\n",
        "  plt.show()\n",
        "\n",
        "plot_loss(history)\n"
      ],
      "execution_count": 13,
      "outputs": [
        {
          "output_type": "display_data",
          "data": {
            "image/png": "[encoded data removed]",
            "text/plain": [
              "<Figure size 432x288 with 1 Axes>"
            ]
          },
          "metadata": {
            "tags": [],
            "needs_background": "light"
          }
        }
      ]
    },
    {
      "cell_type": "code",
      "metadata": {
        "id": "EUexrzUeLCDz",
        "colab_type": "code",
        "colab": {
          "base_uri": "https://localhost:8080/",
          "height": 295
        },
        "outputId": "ae16c0d0-8502-4312-9c8e-de643518d034"
      },
      "source": [
        "def plot_mae(history):\n",
        "\n",
        "  history_dict = history.history\n",
        "  mae_values = history_dict['mae']\n",
        "  val_mae_values = history_dict['val_mae']\n",
        "  epochs = np.array(history.epoch)\n",
        "\n",
        "  plt.plot(epochs-0.5, mae_values, 'bo', label='Training mae')\n",
        "  plt.plot(epochs, val_mae_values, 'b', label='Validation mae')\n",
        "  plt.title('Training and Validation mae')\n",
        "  plt.xlabel('Epochs')\n",
        "  plt.ylabel('mae')\n",
        "  plt.legend()\n",
        "\n",
        "  plt.show()\n",
        "\n",
        "plot_mae(history)\n"
      ],
      "execution_count": 14,
      "outputs": [
        {
          "output_type": "display_data",
          "data": {
            "image/png": "[encoded data removed]",
            "text/plain": [
              "<Figure size 432x288 with 1 Axes>"
            ]
          },
          "metadata": {
            "tags": [],
            "needs_background": "light"
          }
        }
      ]
    },
    {
      "cell_type": "code",
      "metadata": {
        "id": "gQQclz6MLHgj",
        "colab_type": "code",
        "colab": {
          "base_uri": "https://localhost:8080/",
          "height": 34
        },
        "outputId": "66b00583-62fd-4635-f092-ed7b1da24e12"
      },
      "source": [
        "test_eval_results"
      ],
      "execution_count": 15,
      "outputs": [
        {
          "output_type": "execute_result",
          "data": {
            "text/plain": [
              "[2.8127171993255615, 3.26816987991333]"
            ]
          },
          "metadata": {
            "tags": []
          },
          "execution_count": 15
        }
      ]
    },
    {
      "cell_type": "code",
      "metadata": {
        "id": "RASYBjRlLKXD",
        "colab_type": "code",
        "colab": {
          "base_uri": "https://localhost:8080/",
          "height": 34
        },
        "outputId": "d8627bda-5d2e-4e17-d906-94d588a9e920"
      },
      "source": [
        "model.predict(x_test)[1], y_test[1]"
      ],
      "execution_count": 16,
      "outputs": [
        {
          "output_type": "execute_result",
          "data": {
            "text/plain": [
              "(array([16.766869], dtype=float32), 18.8)"
            ]
          },
          "metadata": {
            "tags": []
          },
          "execution_count": 16
        }
      ]
    },
    {
      "cell_type": "code",
      "metadata": {
        "id": "5yAgkWvDxjQ_",
        "colab_type": "code",
        "colab": {}
      },
      "source": [
        ""
      ],
      "execution_count": null,
      "outputs": []
    }
  ]
}