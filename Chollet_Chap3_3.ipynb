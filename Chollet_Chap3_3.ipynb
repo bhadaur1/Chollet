{
  "nbformat": 4,
  "nbformat_minor": 0,
  "metadata": {
    "colab": {
      "name": "Chollet_Chap3_3.ipynb",
      "provenance": [],
      "authorship_tag": "ABX9TyPUMdn5hn6qeF6XDmUb4wu7",
      "include_colab_link": true
    },
    "kernelspec": {
      "name": "python3",
      "display_name": "Python 3"
    }
  },
  "cells": [
    {
      "cell_type": "markdown",
      "metadata": {
        "id": "view-in-github",
        "colab_type": "text"
      },
      "source": [
        "<a href=\"https://colab.research.google.com/github/bhadaur1/Chollet/blob/master/Chollet_Chap3_3.ipynb\" target=\"_parent\"><img src=\"https://colab.research.google.com/assets/colab-badge.svg\" alt=\"Open In Colab\"/></a>"
      ]
    },
    {
      "cell_type": "markdown",
      "metadata": {
        "id": "Ar1W3Am8Fet8",
        "colab_type": "text"
      },
      "source": [
        "### Linear Regression using Boston Housing dataset"
      ]
    },
    {
      "cell_type": "code",
      "metadata": {
        "id": "cLmCkMgkFWRV",
        "colab_type": "code",
        "colab": {}
      },
      "source": [
        "from tensorflow import keras\n",
        "import matplotlib.pyplot as plt\n",
        "import numpy as np\n",
        "from keras.datasets import boston_housing"
      ],
      "execution_count": 2,
      "outputs": []
    },
    {
      "cell_type": "code",
      "metadata": {
        "id": "x_w7Myn9FqU6",
        "colab_type": "code",
        "colab": {
          "base_uri": "https://localhost:8080/",
          "height": 50
        },
        "outputId": "44055294-c311-400f-88d0-3559a0396a1a"
      },
      "source": [
        "(train_data, train_targets), (test_data, test_targets) = boston_housing.load_data()"
      ],
      "execution_count": 3,
      "outputs": [
        {
          "output_type": "stream",
          "text": [
            "Downloading data from https://storage.googleapis.com/tensorflow/tf-keras-datasets/boston_housing.npz\n",
            "57344/57026 [==============================] - 0s 0us/step\n"
          ],
          "name": "stdout"
        }
      ]
    },
    {
      "cell_type": "code",
      "metadata": {
        "id": "Ua2bL8alG5x6",
        "colab_type": "code",
        "colab": {
          "base_uri": "https://localhost:8080/",
          "height": 34
        },
        "outputId": "22dc7ad1-25e7-43c7-a952-b637d2bbe5ea"
      },
      "source": [
        "train_data.shape"
      ],
      "execution_count": 4,
      "outputs": [
        {
          "output_type": "execute_result",
          "data": {
            "text/plain": [
              "(404, 13)"
            ]
          },
          "metadata": {
            "tags": []
          },
          "execution_count": 4
        }
      ]
    },
    {
      "cell_type": "code",
      "metadata": {
        "id": "F3n2tcBdFzgh",
        "colab_type": "code",
        "colab": {}
      },
      "source": [
        "def prepare_data(train_data, train_targets, test_data, test_targets):\n",
        "\n",
        "  def normalize_dataset(dataset, mean=None, std=None):\n",
        "    dataset = dataset.copy()\n",
        "    if mean is None and std is None:\n",
        "      mean = np.mean(dataset, axis=0)\n",
        "      std = np.std(dataset, axis=0)\n",
        "    dataset = (dataset - mean) / std\n",
        "    return dataset, mean, std\n",
        "\n",
        "  x_train, train_mean, train_std = normalize_dataset(train_data)\n",
        "  y_train = train_targets.copy()\n",
        "\n",
        "  x_test, _, _ = normalize_dataset(test_data, train_mean, train_std)\n",
        "  y_test = test_targets.copy()\n",
        "\n",
        "  return x_train, y_train, x_test, y_test\n",
        "\n",
        "x_train, y_train, x_test, y_test = prepare_data(train_data, train_targets, test_data, test_targets)"
      ],
      "execution_count": 5,
      "outputs": []
    },
    {
      "cell_type": "code",
      "metadata": {
        "id": "-UG3Tmj4JduT",
        "colab_type": "code",
        "colab": {
          "base_uri": "https://localhost:8080/",
          "height": 739
        },
        "outputId": "aa34920b-1628-401d-c0fe-58a704cd710e"
      },
      "source": [
        "%%time\n",
        "def model_training(epochs=1):\n",
        "  from keras import models, layers\n",
        "  model = models.Sequential()\n",
        "  model.add(layers.Dense(64, activation='relu', input_shape=(x_train.shape[1],)))\n",
        "  model.add(layers.Dense(64, activation='relu'))\n",
        "  model.add(layers.Dense(1))\n",
        "\n",
        "  model.compile(optimizer='rmsprop',\n",
        "                loss='mse',\n",
        "                metrics=['mae'])\n",
        "\n",
        "  history = model.fit(x_train, y_train, epochs=epochs, batch_size=32, validation_split=0.111)\n",
        "  results = model.evaluate(x_test, y_test)\n",
        "  return model, history, results\n",
        "\n",
        "model, history, test_eval_results = model_training(20)"
      ],
      "execution_count": 6,
      "outputs": [
        {
          "output_type": "stream",
          "text": [
            "Epoch 1/20\n",
            "12/12 [==============================] - 0s 13ms/step - loss: 542.0663 - mae: 21.2931 - val_loss: 448.8190 - val_mae: 19.9423\n",
            "Epoch 2/20\n",
            "12/12 [==============================] - 0s 3ms/step - loss: 460.9867 - mae: 19.3752 - val_loss: 369.7735 - val_mae: 17.8961\n",
            "Epoch 3/20\n",
            "12/12 [==============================] - 0s 2ms/step - loss: 367.7451 - mae: 17.0307 - val_loss: 279.3362 - val_mae: 15.3761\n",
            "Epoch 4/20\n",
            "12/12 [==============================] - 0s 2ms/step - loss: 269.3316 - mae: 14.2031 - val_loss: 194.7386 - val_mae: 12.5854\n",
            "Epoch 5/20\n",
            "12/12 [==============================] - 0s 2ms/step - loss: 182.6866 - mae: 11.2693 - val_loss: 119.1091 - val_mae: 9.5500\n",
            "Epoch 6/20\n",
            "12/12 [==============================] - 0s 2ms/step - loss: 115.1642 - mae: 8.4690 - val_loss: 69.7149 - val_mae: 7.0607\n",
            "Epoch 7/20\n",
            "12/12 [==============================] - 0s 2ms/step - loss: 73.7224 - mae: 6.5667 - val_loss: 44.9976 - val_mae: 5.6521\n",
            "Epoch 8/20\n",
            "12/12 [==============================] - 0s 2ms/step - loss: 52.6685 - mae: 5.4091 - val_loss: 31.1924 - val_mae: 4.5368\n",
            "Epoch 9/20\n",
            "12/12 [==============================] - 0s 3ms/step - loss: 40.3027 - mae: 4.5492 - val_loss: 25.4196 - val_mae: 4.1350\n",
            "Epoch 10/20\n",
            "12/12 [==============================] - 0s 3ms/step - loss: 32.9635 - mae: 4.0296 - val_loss: 20.9406 - val_mae: 3.7293\n",
            "Epoch 11/20\n",
            "12/12 [==============================] - 0s 3ms/step - loss: 28.2273 - mae: 3.6640 - val_loss: 18.4883 - val_mae: 3.4676\n",
            "Epoch 12/20\n",
            "12/12 [==============================] - 0s 2ms/step - loss: 25.0907 - mae: 3.4566 - val_loss: 17.0155 - val_mae: 3.2617\n",
            "Epoch 13/20\n",
            "12/12 [==============================] - 0s 2ms/step - loss: 22.7498 - mae: 3.2700 - val_loss: 16.3370 - val_mae: 3.1156\n",
            "Epoch 14/20\n",
            "12/12 [==============================] - 0s 2ms/step - loss: 20.7158 - mae: 3.1199 - val_loss: 15.1128 - val_mae: 2.9661\n",
            "Epoch 15/20\n",
            "12/12 [==============================] - 0s 2ms/step - loss: 19.2291 - mae: 3.0185 - val_loss: 14.7145 - val_mae: 2.9155\n",
            "Epoch 16/20\n",
            "12/12 [==============================] - 0s 2ms/step - loss: 17.6660 - mae: 2.8941 - val_loss: 14.7392 - val_mae: 2.9221\n",
            "Epoch 17/20\n",
            "12/12 [==============================] - 0s 2ms/step - loss: 16.7365 - mae: 2.8051 - val_loss: 12.7997 - val_mae: 2.6733\n",
            "Epoch 18/20\n",
            "12/12 [==============================] - 0s 2ms/step - loss: 15.7326 - mae: 2.7002 - val_loss: 12.9862 - val_mae: 2.7026\n",
            "Epoch 19/20\n",
            "12/12 [==============================] - 0s 2ms/step - loss: 14.8694 - mae: 2.6251 - val_loss: 12.0018 - val_mae: 2.6152\n",
            "Epoch 20/20\n",
            "12/12 [==============================] - 0s 3ms/step - loss: 14.4620 - mae: 2.6229 - val_loss: 11.6691 - val_mae: 2.6351\n",
            "4/4 [==============================] - 0s 2ms/step - loss: 24.3065 - mae: 3.4675\n",
            "CPU times: user 1.47 s, sys: 99.5 ms, total: 1.57 s\n",
            "Wall time: 1.97 s\n"
          ],
          "name": "stdout"
        }
      ]
    },
    {
      "cell_type": "code",
      "metadata": {
        "id": "2gyHsxBwKtSU",
        "colab_type": "code",
        "colab": {
          "base_uri": "https://localhost:8080/",
          "height": 295
        },
        "outputId": "fd1a1253-b845-45f3-c4ca-2e77233c9148"
      },
      "source": [
        "def plot_loss(history):\n",
        "\n",
        "  history_dict = history.history\n",
        "  loss_values = history_dict['loss']\n",
        "  val_loss_values = history_dict['val_loss']\n",
        "  epochs = history.epoch\n",
        "\n",
        "  plt.plot(epochs, loss_values, 'bo', label='Training Loss')\n",
        "  plt.plot(epochs, val_loss_values, 'b', label='Validation Loss')\n",
        "  plt.title('Training and Validation Loss')\n",
        "  plt.xlabel('Epochs')\n",
        "  plt.ylabel('Loss')\n",
        "  plt.legend()\n",
        "\n",
        "  plt.show()\n",
        "\n",
        "plot_loss(history)\n"
      ],
      "execution_count": 7,
      "outputs": [
        {
          "output_type": "display_data",
          "data": {
            "image/png": "[encoded data removed]",
            "text/plain": [
              "<Figure size 432x288 with 1 Axes>"
            ]
          },
          "metadata": {
            "tags": [],
            "needs_background": "light"
          }
        }
      ]
    },
    {
      "cell_type": "code",
      "metadata": {
        "id": "EUexrzUeLCDz",
        "colab_type": "code",
        "colab": {
          "base_uri": "https://localhost:8080/",
          "height": 295
        },
        "outputId": "8a1f1956-5212-48a9-be52-7ae2a03600db"
      },
      "source": [
        "def plot_mae(history):\n",
        "\n",
        "  history_dict = history.history\n",
        "  mae_values = history_dict['mae']\n",
        "  val_mae_values = history_dict['val_mae']\n",
        "  epochs = history.epoch\n",
        "\n",
        "  plt.plot(epochs, mae_values, 'bo', label='Training mae')\n",
        "  plt.plot(epochs, val_mae_values, 'b', label='Validation mae')\n",
        "  plt.title('Training and Validation mae')\n",
        "  plt.xlabel('Epochs')\n",
        "  plt.ylabel('mae')\n",
        "  plt.legend()\n",
        "\n",
        "  plt.show()\n",
        "\n",
        "plot_mae(history)\n"
      ],
      "execution_count": 8,
      "outputs": [
        {
          "output_type": "display_data",
          "data": {
            "image/png": "[encoded data removed]",
            "text/plain": [
              "<Figure size 432x288 with 1 Axes>"
            ]
          },
          "metadata": {
            "tags": [],
            "needs_background": "light"
          }
        }
      ]
    },
    {
      "cell_type": "code",
      "metadata": {
        "id": "gQQclz6MLHgj",
        "colab_type": "code",
        "colab": {
          "base_uri": "https://localhost:8080/",
          "height": 34
        },
        "outputId": "927b8603-7020-4a82-c40f-8f2fb7e2603d"
      },
      "source": [
        "test_eval_results"
      ],
      "execution_count": 9,
      "outputs": [
        {
          "output_type": "execute_result",
          "data": {
            "text/plain": [
              "[24.306468963623047, 3.4675118923187256]"
            ]
          },
          "metadata": {
            "tags": []
          },
          "execution_count": 9
        }
      ]
    },
    {
      "cell_type": "code",
      "metadata": {
        "id": "RASYBjRlLKXD",
        "colab_type": "code",
        "colab": {
          "base_uri": "https://localhost:8080/",
          "height": 34
        },
        "outputId": "2f0d2f2c-bea8-4d08-92f0-58d4330aca2c"
      },
      "source": [
        "model.predict(x_test)[1], y_test[1]"
      ],
      "execution_count": 10,
      "outputs": [
        {
          "output_type": "execute_result",
          "data": {
            "text/plain": [
              "(array([16.0197], dtype=float32), 18.8)"
            ]
          },
          "metadata": {
            "tags": []
          },
          "execution_count": 10
        }
      ]
    },
    {
      "cell_type": "markdown",
      "metadata": {
        "id": "H6qc7GMDA00t",
        "colab_type": "text"
      },
      "source": [
        "Let's do a five fold cross validation"
      ]
    },
    {
      "cell_type": "code",
      "metadata": {
        "id": "5yAgkWvDxjQ_",
        "colab_type": "code",
        "colab": {
          "base_uri": "https://localhost:8080/",
          "height": 1000
        },
        "outputId": "e1f038d8-62a1-4282-9951-79f2a0e37dbd"
      },
      "source": [
        "def get_model():\n",
        "  from keras import models, layers\n",
        "  model = models.Sequential()\n",
        "  model.add(layers.Dense(64, activation='relu', input_shape=(x_train.shape[1],)))\n",
        "  model.add(layers.Dense(64, activation='relu'))\n",
        "  model.add(layers.Dense(1))\n",
        "\n",
        "  model.compile(optimizer='rmsprop',\n",
        "                loss='mse',\n",
        "                metrics=['mae'])\n",
        "  \n",
        "  return model\n",
        "  \n",
        "def kfold_cv_train(k=5, epochs=20):\n",
        "  x_train, y_train, x_test, y_test = prepare_data(train_data, train_targets, test_data, test_targets)\n",
        "\n",
        "  n = len(x_train)\n",
        "  def get_dataset_fold(dataset, foldnum, foldlen):\n",
        "    return (np.concatenate((dataset[:foldlen*foldnum],dataset[foldlen*(foldnum+1):])),\n",
        "            dataset[foldlen*foldnum : foldlen*(foldnum+1)],\n",
        "    )\n",
        "\n",
        "  validation_scores = []\n",
        "  for fold in range(k):\n",
        "    training_data, validation_data = get_dataset_fold(x_train, k, n//k)\n",
        "    training_targets, validation_targets = get_dataset_fold(y_train, k, n//k)\n",
        "    model = get_model()\n",
        "    history = model.fit(training_data, training_targets, epochs=epochs, batch_size=32)\n",
        "    validation_scores.append(model.evaluate(validation_data, validation_targets))\n",
        "  \n",
        "  return validation_scores\n",
        "\n",
        "validation_scores = kfold_cv_train(k=5, epochs=20)"
      ],
      "execution_count": 30,
      "outputs": [
        {
          "output_type": "stream",
          "text": [
            "Epoch 1/20\n",
            "13/13 [==============================] - 0s 1ms/step - loss: 552.9722 - mae: 21.6107\n",
            "Epoch 2/20\n",
            "13/13 [==============================] - 0s 1ms/step - loss: 473.1529 - mae: 19.6628\n",
            "Epoch 3/20\n",
            "13/13 [==============================] - 0s 1ms/step - loss: 384.1211 - mae: 17.3864\n",
            "Epoch 4/20\n",
            "13/13 [==============================] - 0s 1ms/step - loss: 288.3595 - mae: 14.7459\n",
            "Epoch 5/20\n",
            "13/13 [==============================] - 0s 1ms/step - loss: 198.4882 - mae: 11.8591\n",
            "Epoch 6/20\n",
            "13/13 [==============================] - 0s 1ms/step - loss: 125.2007 - mae: 9.0365\n",
            "Epoch 7/20\n",
            "13/13 [==============================] - 0s 987us/step - loss: 77.2911 - mae: 6.9263\n",
            "Epoch 8/20\n",
            "13/13 [==============================] - 0s 959us/step - loss: 53.0354 - mae: 5.5118\n",
            "Epoch 9/20\n",
            "13/13 [==============================] - 0s 1ms/step - loss: 39.4355 - mae: 4.6400\n",
            "Epoch 10/20\n",
            "13/13 [==============================] - 0s 1ms/step - loss: 30.7920 - mae: 3.9900\n",
            "Epoch 11/20\n",
            "13/13 [==============================] - 0s 1ms/step - loss: 26.2456 - mae: 3.6597\n",
            "Epoch 12/20\n",
            "13/13 [==============================] - 0s 1ms/step - loss: 23.8934 - mae: 3.5017\n",
            "Epoch 13/20\n",
            "13/13 [==============================] - 0s 1ms/step - loss: 22.2520 - mae: 3.3231\n",
            "Epoch 14/20\n",
            "13/13 [==============================] - 0s 1ms/step - loss: 20.3439 - mae: 3.1728\n",
            "Epoch 15/20\n",
            "13/13 [==============================] - 0s 1ms/step - loss: 19.1017 - mae: 3.0799\n",
            "Epoch 16/20\n",
            "13/13 [==============================] - 0s 1ms/step - loss: 17.9126 - mae: 2.9905\n",
            "Epoch 17/20\n",
            "13/13 [==============================] - 0s 1ms/step - loss: 16.6740 - mae: 2.8548\n",
            "Epoch 18/20\n",
            "13/13 [==============================] - 0s 1ms/step - loss: 15.9387 - mae: 2.8035\n",
            "Epoch 19/20\n",
            "13/13 [==============================] - 0s 1ms/step - loss: 15.1723 - mae: 2.7279\n",
            "Epoch 20/20\n",
            "13/13 [==============================] - 0s 1ms/step - loss: 14.3069 - mae: 2.6473\n",
            "1/1 [==============================] - 0s 1ms/step - loss: 8.7266 - mae: 2.7790\n",
            "Epoch 1/20\n",
            "13/13 [==============================] - 0s 1ms/step - loss: 544.0247 - mae: 21.3648\n",
            "Epoch 2/20\n",
            "13/13 [==============================] - 0s 977us/step - loss: 456.5676 - mae: 19.2441\n",
            "Epoch 3/20\n",
            "13/13 [==============================] - 0s 990us/step - loss: 358.7287 - mae: 16.6912\n",
            "Epoch 4/20\n",
            "13/13 [==============================] - 0s 1ms/step - loss: 260.4573 - mae: 13.7055\n",
            "Epoch 5/20\n",
            "13/13 [==============================] - 0s 944us/step - loss: 172.5149 - mae: 10.6212\n",
            "Epoch 6/20\n",
            "13/13 [==============================] - 0s 1ms/step - loss: 108.6347 - mae: 7.8398\n",
            "Epoch 7/20\n",
            "13/13 [==============================] - 0s 1ms/step - loss: 72.1276 - mae: 6.1698\n",
            "Epoch 8/20\n",
            "13/13 [==============================] - 0s 1ms/step - loss: 53.1151 - mae: 5.2672\n",
            "Epoch 9/20\n",
            "13/13 [==============================] - 0s 994us/step - loss: 40.7662 - mae: 4.5784\n",
            "Epoch 10/20\n",
            "13/13 [==============================] - 0s 1ms/step - loss: 32.3243 - mae: 4.0615\n",
            "Epoch 11/20\n",
            "13/13 [==============================] - 0s 963us/step - loss: 26.7471 - mae: 3.6523\n",
            "Epoch 12/20\n",
            "13/13 [==============================] - 0s 1ms/step - loss: 23.2225 - mae: 3.4091\n",
            "Epoch 13/20\n",
            "13/13 [==============================] - 0s 1ms/step - loss: 21.0043 - mae: 3.3044\n",
            "Epoch 14/20\n",
            "13/13 [==============================] - 0s 1ms/step - loss: 19.6380 - mae: 3.1205\n",
            "Epoch 15/20\n",
            "13/13 [==============================] - 0s 1ms/step - loss: 18.2924 - mae: 3.0388\n",
            "Epoch 16/20\n",
            "13/13 [==============================] - 0s 1ms/step - loss: 17.0102 - mae: 2.8993\n",
            "Epoch 17/20\n",
            "13/13 [==============================] - 0s 1ms/step - loss: 16.1705 - mae: 2.8268\n",
            "Epoch 18/20\n",
            "13/13 [==============================] - 0s 1ms/step - loss: 15.0468 - mae: 2.7283\n",
            "Epoch 19/20\n",
            "13/13 [==============================] - 0s 1ms/step - loss: 14.1733 - mae: 2.6188\n",
            "Epoch 20/20\n",
            "13/13 [==============================] - 0s 994us/step - loss: 13.6248 - mae: 2.5674\n",
            "WARNING:tensorflow:5 out of the last 14 calls to <function Model.make_test_function.<locals>.test_function at 0x7f458ecefbf8> triggered tf.function retracing. Tracing is expensive and the excessive number of tracings could be due to (1) creating @tf.function repeatedly in a loop, (2) passing tensors with different shapes, (3) passing Python objects instead of tensors. For (1), please define your @tf.function outside of the loop. For (2), @tf.function has experimental_relax_shapes=True option that relaxes argument shapes that can avoid unnecessary retracing. For (3), please refer to https://www.tensorflow.org/tutorials/customization/performance#python_or_tensor_args and https://www.tensorflow.org/api_docs/python/tf/function for  more details.\n",
            "1/1 [==============================] - 0s 3ms/step - loss: 5.3643 - mae: 2.1797\n",
            "Epoch 1/20\n",
            "13/13 [==============================] - 0s 1ms/step - loss: 541.8476 - mae: 21.4377\n",
            "Epoch 2/20\n",
            "13/13 [==============================] - 0s 1ms/step - loss: 451.8112 - mae: 19.2951\n",
            "Epoch 3/20\n",
            "13/13 [==============================] - 0s 1ms/step - loss: 356.1632 - mae: 16.7622\n",
            "Epoch 4/20\n",
            "13/13 [==============================] - 0s 969us/step - loss: 255.6326 - mae: 13.7827\n",
            "Epoch 5/20\n",
            "13/13 [==============================] - 0s 1ms/step - loss: 169.3860 - mae: 10.6873\n",
            "Epoch 6/20\n",
            "13/13 [==============================] - 0s 1ms/step - loss: 111.1027 - mae: 8.3834\n",
            "Epoch 7/20\n",
            "13/13 [==============================] - 0s 998us/step - loss: 75.5650 - mae: 6.7624\n",
            "Epoch 8/20\n",
            "13/13 [==============================] - 0s 1ms/step - loss: 55.5276 - mae: 5.7542\n",
            "Epoch 9/20\n",
            "13/13 [==============================] - 0s 1ms/step - loss: 41.9746 - mae: 4.9087\n",
            "Epoch 10/20\n",
            "13/13 [==============================] - 0s 1ms/step - loss: 33.4011 - mae: 4.2727\n",
            "Epoch 11/20\n",
            "13/13 [==============================] - 0s 1ms/step - loss: 28.0709 - mae: 3.8483\n",
            "Epoch 12/20\n",
            "13/13 [==============================] - 0s 1ms/step - loss: 24.7678 - mae: 3.5295\n",
            "Epoch 13/20\n",
            "13/13 [==============================] - 0s 1ms/step - loss: 22.5202 - mae: 3.3749\n",
            "Epoch 14/20\n",
            "13/13 [==============================] - 0s 1ms/step - loss: 20.8342 - mae: 3.1813\n",
            "Epoch 15/20\n",
            "13/13 [==============================] - 0s 1ms/step - loss: 19.3390 - mae: 3.0764\n",
            "Epoch 16/20\n",
            "13/13 [==============================] - 0s 1ms/step - loss: 18.2259 - mae: 2.9750\n",
            "Epoch 17/20\n",
            "13/13 [==============================] - 0s 1ms/step - loss: 17.1907 - mae: 2.8515\n",
            "Epoch 18/20\n",
            "13/13 [==============================] - 0s 992us/step - loss: 16.2648 - mae: 2.7894\n",
            "Epoch 19/20\n",
            "13/13 [==============================] - 0s 1ms/step - loss: 15.4367 - mae: 2.6779\n",
            "Epoch 20/20\n",
            "13/13 [==============================] - 0s 1ms/step - loss: 14.4887 - mae: 2.6292\n",
            "WARNING:tensorflow:5 out of the last 11 calls to <function Model.make_test_function.<locals>.test_function at 0x7f458db76488> triggered tf.function retracing. Tracing is expensive and the excessive number of tracings could be due to (1) creating @tf.function repeatedly in a loop, (2) passing tensors with different shapes, (3) passing Python objects instead of tensors. For (1), please define your @tf.function outside of the loop. For (2), @tf.function has experimental_relax_shapes=True option that relaxes argument shapes that can avoid unnecessary retracing. For (3), please refer to https://www.tensorflow.org/tutorials/customization/performance#python_or_tensor_args and https://www.tensorflow.org/api_docs/python/tf/function for  more details.\n",
            "1/1 [==============================] - 0s 1ms/step - loss: 3.4899 - mae: 1.2456\n",
            "Epoch 1/20\n",
            "13/13 [==============================] - 0s 1ms/step - loss: 515.2093 - mae: 20.8176\n",
            "Epoch 2/20\n",
            "13/13 [==============================] - 0s 998us/step - loss: 400.5701 - mae: 18.0230\n",
            "Epoch 3/20\n",
            "13/13 [==============================] - 0s 1ms/step - loss: 281.3170 - mae: 14.6907\n",
            "Epoch 4/20\n",
            "13/13 [==============================] - 0s 971us/step - loss: 175.2426 - mae: 11.1543\n",
            "Epoch 5/20\n",
            "13/13 [==============================] - 0s 940us/step - loss: 96.8007 - mae: 7.8115\n",
            "Epoch 6/20\n",
            "13/13 [==============================] - 0s 894us/step - loss: 56.8283 - mae: 5.7362\n",
            "Epoch 7/20\n",
            "13/13 [==============================] - 0s 934us/step - loss: 39.0712 - mae: 4.6393\n",
            "Epoch 8/20\n",
            "13/13 [==============================] - 0s 1ms/step - loss: 29.5289 - mae: 3.9599\n",
            "Epoch 9/20\n",
            "13/13 [==============================] - 0s 1ms/step - loss: 24.9656 - mae: 3.6081\n",
            "Epoch 10/20\n",
            "13/13 [==============================] - 0s 1ms/step - loss: 22.2815 - mae: 3.3766\n",
            "Epoch 11/20\n",
            "13/13 [==============================] - 0s 1ms/step - loss: 20.5340 - mae: 3.2033\n",
            "Epoch 12/20\n",
            "13/13 [==============================] - 0s 1ms/step - loss: 18.5401 - mae: 3.0284\n",
            "Epoch 13/20\n",
            "13/13 [==============================] - 0s 963us/step - loss: 17.2640 - mae: 2.9385\n",
            "Epoch 14/20\n",
            "13/13 [==============================] - 0s 1ms/step - loss: 15.8137 - mae: 2.7801\n",
            "Epoch 15/20\n",
            "13/13 [==============================] - 0s 1ms/step - loss: 14.7756 - mae: 2.6797\n",
            "Epoch 16/20\n",
            "13/13 [==============================] - 0s 1ms/step - loss: 14.0210 - mae: 2.6260\n",
            "Epoch 17/20\n",
            "13/13 [==============================] - 0s 966us/step - loss: 13.3713 - mae: 2.6073\n",
            "Epoch 18/20\n",
            "13/13 [==============================] - 0s 951us/step - loss: 12.9436 - mae: 2.5167\n",
            "Epoch 19/20\n",
            "13/13 [==============================] - 0s 1ms/step - loss: 12.0459 - mae: 2.4985\n",
            "Epoch 20/20\n",
            "13/13 [==============================] - 0s 1ms/step - loss: 11.7475 - mae: 2.4165\n",
            "WARNING:tensorflow:6 out of the last 12 calls to <function Model.make_test_function.<locals>.test_function at 0x7f458c9d8268> triggered tf.function retracing. Tracing is expensive and the excessive number of tracings could be due to (1) creating @tf.function repeatedly in a loop, (2) passing tensors with different shapes, (3) passing Python objects instead of tensors. For (1), please define your @tf.function outside of the loop. For (2), @tf.function has experimental_relax_shapes=True option that relaxes argument shapes that can avoid unnecessary retracing. For (3), please refer to https://www.tensorflow.org/tutorials/customization/performance#python_or_tensor_args and https://www.tensorflow.org/api_docs/python/tf/function for  more details.\n",
            "1/1 [==============================] - 0s 3ms/step - loss: 9.5271 - mae: 2.9690\n",
            "Epoch 1/20\n",
            "13/13 [==============================] - 0s 1ms/step - loss: 557.9327 - mae: 21.7028\n",
            "Epoch 2/20\n",
            "13/13 [==============================] - 0s 934us/step - loss: 483.3614 - mae: 19.9338\n",
            "Epoch 3/20\n",
            "13/13 [==============================] - 0s 1ms/step - loss: 398.0698 - mae: 17.7687\n",
            "Epoch 4/20\n",
            "13/13 [==============================] - 0s 1ms/step - loss: 304.2737 - mae: 15.1042\n",
            "Epoch 5/20\n",
            "13/13 [==============================] - 0s 1ms/step - loss: 211.3371 - mae: 12.1370\n",
            "Epoch 6/20\n",
            "13/13 [==============================] - 0s 974us/step - loss: 135.3795 - mae: 9.2322\n",
            "Epoch 7/20\n",
            "13/13 [==============================] - 0s 1ms/step - loss: 86.2304 - mae: 7.0368\n",
            "Epoch 8/20\n",
            "13/13 [==============================] - 0s 1ms/step - loss: 61.2502 - mae: 5.8455\n",
            "Epoch 9/20\n",
            "13/13 [==============================] - 0s 1ms/step - loss: 47.4742 - mae: 5.0211\n",
            "Epoch 10/20\n",
            "13/13 [==============================] - 0s 1ms/step - loss: 37.9685 - mae: 4.4420\n",
            "Epoch 11/20\n",
            "13/13 [==============================] - 0s 1ms/step - loss: 31.6952 - mae: 4.0118\n",
            "Epoch 12/20\n",
            "13/13 [==============================] - 0s 1ms/step - loss: 27.2260 - mae: 3.6755\n",
            "Epoch 13/20\n",
            "13/13 [==============================] - 0s 1ms/step - loss: 24.2047 - mae: 3.4450\n",
            "Epoch 14/20\n",
            "13/13 [==============================] - 0s 1ms/step - loss: 22.0418 - mae: 3.2433\n",
            "Epoch 15/20\n",
            "13/13 [==============================] - 0s 1ms/step - loss: 20.4055 - mae: 3.1267\n",
            "Epoch 16/20\n",
            "13/13 [==============================] - 0s 1ms/step - loss: 18.6436 - mae: 2.9961\n",
            "Epoch 17/20\n",
            "13/13 [==============================] - 0s 1ms/step - loss: 17.5458 - mae: 2.8809\n",
            "Epoch 18/20\n",
            "13/13 [==============================] - 0s 1ms/step - loss: 16.4322 - mae: 2.8229\n",
            "Epoch 19/20\n",
            "13/13 [==============================] - 0s 1ms/step - loss: 15.3371 - mae: 2.6817\n",
            "Epoch 20/20\n",
            "13/13 [==============================] - 0s 1ms/step - loss: 14.7005 - mae: 2.6302\n",
            "WARNING:tensorflow:7 out of the last 13 calls to <function Model.make_test_function.<locals>.test_function at 0x7f458b960c80> triggered tf.function retracing. Tracing is expensive and the excessive number of tracings could be due to (1) creating @tf.function repeatedly in a loop, (2) passing tensors with different shapes, (3) passing Python objects instead of tensors. For (1), please define your @tf.function outside of the loop. For (2), @tf.function has experimental_relax_shapes=True option that relaxes argument shapes that can avoid unnecessary retracing. For (3), please refer to https://www.tensorflow.org/tutorials/customization/performance#python_or_tensor_args and https://www.tensorflow.org/api_docs/python/tf/function for  more details.\n",
            "1/1 [==============================] - 0s 3ms/step - loss: 3.1888 - mae: 1.3088\n"
          ],
          "name": "stdout"
        }
      ]
    },
    {
      "cell_type": "code",
      "metadata": {
        "id": "06ICKkHdDxah",
        "colab_type": "code",
        "colab": {
          "base_uri": "https://localhost:8080/",
          "height": 34
        },
        "outputId": "687a24f2-3429-45a5-92b5-b247d7e2d867"
      },
      "source": [
        "np.mean(validation_scores, axis=0)"
      ],
      "execution_count": 32,
      "outputs": [
        {
          "output_type": "execute_result",
          "data": {
            "text/plain": [
              "array([6.05933642, 2.09643345])"
            ]
          },
          "metadata": {
            "tags": []
          },
          "execution_count": 32
        }
      ]
    },
    {
      "cell_type": "code",
      "metadata": {
        "id": "p2IGUTxnMAvY",
        "colab_type": "code",
        "colab": {}
      },
      "source": [
        ""
      ],
      "execution_count": null,
      "outputs": []
    }
  ]
}