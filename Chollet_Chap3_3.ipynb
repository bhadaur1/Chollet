{
  "nbformat": 4,
  "nbformat_minor": 0,
  "metadata": {
    "colab": {
      "name": "Chollet_Chap3_3.ipynb",
      "provenance": [],
      "authorship_tag": "ABX9TyPkUOJuR1H2eWBJ89sIrCOw",
      "include_colab_link": true
    },
    "kernelspec": {
      "name": "python3",
      "display_name": "Python 3"
    }
  },
  "cells": [
    {
      "cell_type": "markdown",
      "metadata": {
        "id": "view-in-github",
        "colab_type": "text"
      },
      "source": [
        "<a href=\"https://colab.research.google.com/github/bhadaur1/Chollet/blob/master/Chollet_Chap3_3.ipynb\" target=\"_parent\"><img src=\"https://colab.research.google.com/assets/colab-badge.svg\" alt=\"Open In Colab\"/></a>"
      ]
    },
    {
      "cell_type": "markdown",
      "metadata": {
        "id": "Ar1W3Am8Fet8",
        "colab_type": "text"
      },
      "source": [
        "### Linear Regression using Boston Housing dataset"
      ]
    },
    {
      "cell_type": "code",
      "metadata": {
        "id": "cLmCkMgkFWRV",
        "colab_type": "code",
        "colab": {}
      },
      "source": [
        "from tensorflow import keras\n",
        "import matplotlib.pyplot as plt\n",
        "import numpy as np\n",
        "from keras.datasets import boston_housing"
      ],
      "execution_count": 1,
      "outputs": []
    },
    {
      "cell_type": "code",
      "metadata": {
        "id": "x_w7Myn9FqU6",
        "colab_type": "code",
        "colab": {
          "base_uri": "https://localhost:8080/",
          "height": 50
        },
        "outputId": "ff00937d-a383-492e-8e1b-d52ac7100424"
      },
      "source": [
        "(train_data, train_targets), (test_data, test_targets) = boston_housing.load_data()"
      ],
      "execution_count": 2,
      "outputs": [
        {
          "output_type": "stream",
          "text": [
            "Downloading data from https://storage.googleapis.com/tensorflow/tf-keras-datasets/boston_housing.npz\n",
            "57344/57026 [==============================] - 0s 0us/step\n"
          ],
          "name": "stdout"
        }
      ]
    },
    {
      "cell_type": "code",
      "metadata": {
        "id": "Ua2bL8alG5x6",
        "colab_type": "code",
        "colab": {
          "base_uri": "https://localhost:8080/",
          "height": 34
        },
        "outputId": "c1f94462-ce96-44bd-d834-f725b1b287e0"
      },
      "source": [
        "train_data.shape"
      ],
      "execution_count": 3,
      "outputs": [
        {
          "output_type": "execute_result",
          "data": {
            "text/plain": [
              "(404, 13)"
            ]
          },
          "metadata": {
            "tags": []
          },
          "execution_count": 3
        }
      ]
    },
    {
      "cell_type": "code",
      "metadata": {
        "id": "F3n2tcBdFzgh",
        "colab_type": "code",
        "colab": {}
      },
      "source": [
        "def prepare_data(train_data, train_targets, test_data, test_targets):\n",
        "\n",
        "  def normalize_dataset(dataset, mean=None, std=None):\n",
        "    dataset = dataset.copy()\n",
        "    if mean is None and std is None:\n",
        "      mean = np.mean(dataset, axis=0)\n",
        "      std = np.std(dataset, axis=0)\n",
        "    dataset = (dataset - mean) / std\n",
        "    return dataset, mean, std\n",
        "\n",
        "  x_train, train_mean, train_std = normalize_dataset(train_data)\n",
        "  y_train = train_targets.copy()\n",
        "\n",
        "  x_test, _, _ = normalize_dataset(test_data, train_mean, train_std)\n",
        "  y_test = test_targets.copy()\n",
        "\n",
        "  return x_train, y_train, x_test, y_test\n",
        "\n",
        "x_train, y_train, x_test, y_test = prepare_data(train_data, train_targets, test_data, test_targets)"
      ],
      "execution_count": 4,
      "outputs": []
    },
    {
      "cell_type": "code",
      "metadata": {
        "id": "-UG3Tmj4JduT",
        "colab_type": "code",
        "colab": {
          "base_uri": "https://localhost:8080/",
          "height": 739
        },
        "outputId": "0dc04f11-d976-47fb-ee6e-beaf7fd12c3a"
      },
      "source": [
        "%%time\n",
        "def model_training(epochs=1):\n",
        "  from keras import models, layers\n",
        "  model = models.Sequential()\n",
        "  model.add(layers.Dense(64, activation='relu', input_shape=(x_train.shape[1],)))\n",
        "  model.add(layers.Dense(64, activation='relu'))\n",
        "  model.add(layers.Dense(1))\n",
        "\n",
        "  model.compile(optimizer='rmsprop',\n",
        "                loss='mse',\n",
        "                metrics=['mae'])\n",
        "\n",
        "  history = model.fit(x_train, y_train, epochs=epochs, batch_size=32, validation_split=0.111)\n",
        "  results = model.evaluate(x_test, y_test)\n",
        "  return model, history, results\n",
        "\n",
        "model, history, test_eval_results = model_training(20)"
      ],
      "execution_count": 5,
      "outputs": [
        {
          "output_type": "stream",
          "text": [
            "Epoch 1/20\n",
            "12/12 [==============================] - 0s 14ms/step - loss: 534.7783 - mae: 21.1474 - val_loss: 432.6478 - val_mae: 19.5214\n",
            "Epoch 2/20\n",
            "12/12 [==============================] - 0s 3ms/step - loss: 439.2303 - mae: 18.8392 - val_loss: 345.9803 - val_mae: 17.2209\n",
            "Epoch 3/20\n",
            "12/12 [==============================] - 0s 3ms/step - loss: 342.4344 - mae: 16.2461 - val_loss: 260.3404 - val_mae: 14.6744\n",
            "Epoch 4/20\n",
            "12/12 [==============================] - 0s 3ms/step - loss: 248.6112 - mae: 13.4781 - val_loss: 175.0353 - val_mae: 11.7417\n",
            "Epoch 5/20\n",
            "12/12 [==============================] - 0s 3ms/step - loss: 164.4886 - mae: 10.6317 - val_loss: 106.0877 - val_mae: 8.7136\n",
            "Epoch 6/20\n",
            "12/12 [==============================] - 0s 2ms/step - loss: 103.3019 - mae: 8.1988 - val_loss: 66.1725 - val_mae: 6.8951\n",
            "Epoch 7/20\n",
            "12/12 [==============================] - 0s 2ms/step - loss: 71.1664 - mae: 6.6016 - val_loss: 44.0382 - val_mae: 5.6538\n",
            "Epoch 8/20\n",
            "12/12 [==============================] - 0s 3ms/step - loss: 53.2244 - mae: 5.6012 - val_loss: 32.2922 - val_mae: 4.7756\n",
            "Epoch 9/20\n",
            "12/12 [==============================] - 0s 3ms/step - loss: 42.3499 - mae: 4.8685 - val_loss: 25.3510 - val_mae: 4.2443\n",
            "Epoch 10/20\n",
            "12/12 [==============================] - 0s 2ms/step - loss: 34.6806 - mae: 4.2784 - val_loss: 19.9054 - val_mae: 3.7819\n",
            "Epoch 11/20\n",
            "12/12 [==============================] - 0s 3ms/step - loss: 29.4706 - mae: 3.8558 - val_loss: 16.3658 - val_mae: 3.4122\n",
            "Epoch 12/20\n",
            "12/12 [==============================] - 0s 2ms/step - loss: 25.7991 - mae: 3.5854 - val_loss: 13.7697 - val_mae: 3.0685\n",
            "Epoch 13/20\n",
            "12/12 [==============================] - 0s 2ms/step - loss: 23.1785 - mae: 3.4149 - val_loss: 12.8619 - val_mae: 2.9523\n",
            "Epoch 14/20\n",
            "12/12 [==============================] - 0s 2ms/step - loss: 21.1145 - mae: 3.2561 - val_loss: 15.2575 - val_mae: 3.1872\n",
            "Epoch 15/20\n",
            "12/12 [==============================] - 0s 3ms/step - loss: 19.6775 - mae: 3.1329 - val_loss: 13.8065 - val_mae: 2.9867\n",
            "Epoch 16/20\n",
            "12/12 [==============================] - 0s 3ms/step - loss: 18.4643 - mae: 3.0532 - val_loss: 12.8691 - val_mae: 2.8774\n",
            "Epoch 17/20\n",
            "12/12 [==============================] - 0s 3ms/step - loss: 17.2815 - mae: 2.9757 - val_loss: 10.6347 - val_mae: 2.5747\n",
            "Epoch 18/20\n",
            "12/12 [==============================] - 0s 3ms/step - loss: 16.3898 - mae: 2.8605 - val_loss: 10.5493 - val_mae: 2.5930\n",
            "Epoch 19/20\n",
            "12/12 [==============================] - 0s 3ms/step - loss: 15.5875 - mae: 2.7920 - val_loss: 11.2377 - val_mae: 2.6839\n",
            "Epoch 20/20\n",
            "12/12 [==============================] - 0s 3ms/step - loss: 14.9403 - mae: 2.7424 - val_loss: 12.0788 - val_mae: 2.7829\n",
            "4/4 [==============================] - 0s 2ms/step - loss: 22.9215 - mae: 3.5308\n",
            "CPU times: user 1.53 s, sys: 103 ms, total: 1.63 s\n",
            "Wall time: 1.98 s\n"
          ],
          "name": "stdout"
        }
      ]
    },
    {
      "cell_type": "code",
      "metadata": {
        "id": "2gyHsxBwKtSU",
        "colab_type": "code",
        "colab": {
          "base_uri": "https://localhost:8080/",
          "height": 295
        },
        "outputId": "a483dcd7-8555-47f3-8697-cf307d7888b8"
      },
      "source": [
        "def plot_loss(history):\n",
        "\n",
        "  history_dict = history.history\n",
        "  loss_values = history_dict['loss']\n",
        "  val_loss_values = history_dict['val_loss']\n",
        "  epochs = history.epoch\n",
        "\n",
        "  plt.plot(epochs, loss_values, 'bo', label='Training Loss')\n",
        "  plt.plot(epochs, val_loss_values, 'b', label='Validation Loss')\n",
        "  plt.title('Training and Validation Loss')\n",
        "  plt.xlabel('Epochs')\n",
        "  plt.ylabel('Loss')\n",
        "  plt.legend()\n",
        "\n",
        "  plt.show()\n",
        "\n",
        "plot_loss(history)\n"
      ],
      "execution_count": 6,
      "outputs": [
        {
          "output_type": "display_data",
          "data": {
            "image/png": "[encoded data removed]",
            "text/plain": [
              "<Figure size 432x288 with 1 Axes>"
            ]
          },
          "metadata": {
            "tags": [],
            "needs_background": "light"
          }
        }
      ]
    },
    {
      "cell_type": "code",
      "metadata": {
        "id": "EUexrzUeLCDz",
        "colab_type": "code",
        "colab": {
          "base_uri": "https://localhost:8080/",
          "height": 295
        },
        "outputId": "5bd1ec4b-6df7-460b-9893-a477024ae9b5"
      },
      "source": [
        "def plot_mae(history):\n",
        "\n",
        "  history_dict = history.history\n",
        "  mae_values = history_dict['mae']\n",
        "  val_mae_values = history_dict['val_mae']\n",
        "  epochs = history.epoch\n",
        "\n",
        "  plt.plot(epochs, mae_values, 'bo', label='Training mae')\n",
        "  plt.plot(epochs, val_mae_values, 'b', label='Validation mae')\n",
        "  plt.title('Training and Validation mae')\n",
        "  plt.xlabel('Epochs')\n",
        "  plt.ylabel('mae')\n",
        "  plt.legend()\n",
        "\n",
        "  plt.show()\n",
        "\n",
        "plot_mae(history)\n"
      ],
      "execution_count": 7,
      "outputs": [
        {
          "output_type": "display_data",
          "data": {
            "image/png": "[encoded data removed]",
            "text/plain": [
              "<Figure size 432x288 with 1 Axes>"
            ]
          },
          "metadata": {
            "tags": [],
            "needs_background": "light"
          }
        }
      ]
    },
    {
      "cell_type": "code",
      "metadata": {
        "id": "gQQclz6MLHgj",
        "colab_type": "code",
        "colab": {
          "base_uri": "https://localhost:8080/",
          "height": 34
        },
        "outputId": "a3c06af2-eb07-4d75-ec39-e54cf74b13e4"
      },
      "source": [
        "test_eval_results"
      ],
      "execution_count": 8,
      "outputs": [
        {
          "output_type": "execute_result",
          "data": {
            "text/plain": [
              "[22.9215030670166, 3.530773162841797]"
            ]
          },
          "metadata": {
            "tags": []
          },
          "execution_count": 8
        }
      ]
    },
    {
      "cell_type": "code",
      "metadata": {
        "id": "RASYBjRlLKXD",
        "colab_type": "code",
        "colab": {
          "base_uri": "https://localhost:8080/",
          "height": 34
        },
        "outputId": "5e2e3944-c3f3-4937-a07f-7b8f1f6e0633"
      },
      "source": [
        "model.predict(x_test)[1], y_test[1]"
      ],
      "execution_count": 14,
      "outputs": [
        {
          "output_type": "execute_result",
          "data": {
            "text/plain": [
              "(array([16.660198], dtype=float32), 18.8)"
            ]
          },
          "metadata": {
            "tags": []
          },
          "execution_count": 14
        }
      ]
    },
    {
      "cell_type": "code",
      "metadata": {
        "id": "5yAgkWvDxjQ_",
        "colab_type": "code",
        "colab": {}
      },
      "source": [
        ""
      ],
      "execution_count": null,
      "outputs": []
    }
  ]
}